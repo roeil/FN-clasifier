{
  "nbformat": 4,
  "nbformat_minor": 0,
  "metadata": {
    "colab": {
      "name": "mlp3 roei levy FULL.ipynb",
      "provenance": [],
      "collapsed_sections": [],
      "authorship_tag": "ABX9TyNuTsCDaXbw60S9gpm9YGEG",
      "include_colab_link": true
    },
    "kernelspec": {
      "name": "python3",
      "display_name": "Python 3"
    }
  },
  "cells": [
    {
      "cell_type": "markdown",
      "metadata": {
        "id": "view-in-github",
        "colab_type": "text"
      },
      "source": [
        "<a href=\"https://colab.research.google.com/github/roeil/FN-clasifier/blob/master/mlp3_roei_levy_FULL.ipynb\" target=\"_parent\"><img src=\"https://colab.research.google.com/assets/colab-badge.svg\" alt=\"Open In Colab\"/></a>"
      ]
    },
    {
      "cell_type": "code",
      "metadata": {
        "id": "4vVOF7fGN_3d",
        "colab_type": "code",
        "colab": {
          "base_uri": "https://localhost:8080/",
          "height": 859
        },
        "outputId": "61701c32-e56c-4068-f9f3-7cb4009ba3b8"
      },
      "source": [
        "import numpy as np\n",
        "import matplotlib.pyplot as plt\n",
        "\n",
        "\n",
        "import numpy as np\n",
        "import math\n",
        "r=65\n",
        "a,b=-12,10\n",
        "n=100\n",
        "a=12\n",
        "p=.051\n",
        "rng=np.linspace(-6,6,n)\n",
        "rngy=np.linspace(a,-a,n)\n",
        "rngx=np.linspace(-a,a,n)\n",
        "psq=[]; psq2=[]\n",
        "xy_1=[]\n",
        "\n",
        "#####################################################\n",
        "#SQUARE\n",
        "a2=11.0\n",
        "rr=1.0\n",
        "for x in rngx:\n",
        "    for y in rngy:\n",
        "\n",
        "\n",
        "        # if np.random.choice([1,-1],p=[p,1-p])>0:\n",
        "        #   if (x<-rr and x>-(a2) and y<(a2) and y>rr):# \\\n",
        "            \n",
        "        #   #or ( x>rr and x<(a) and y<-rr and y>-(a)):\n",
        "        #     #p.append((x+r1,y+r2))\n",
        "        #     psq.append((x,y))\n",
        "        #   if (x<(a2) and x>rr and y>rr and y<(a2) ) or ( x<-rr and x>-(a2) and y<-rr and y>-(a2)) or ( x>rr and x<(a2) and y<-rr and y>-(a2)):\n",
        "        #     psq2.append((x,y))\n",
        "\n",
        "            \n",
        "        if np.random.choice([1,-1],p=[p,1-p])>0:\n",
        "          if (x<-rr and x>-(a2) and y<(a2) and y>rr) \\\n",
        "          or ( x>rr and x<(a2) and y<-rr and y>-(a2)):\n",
        "            #p.append((x+r1,y+r2))\n",
        "            psq.append((x,y))\n",
        "          if (x<(a2) and x>rr and y>rr and y<(a2) ) or ( x<-rr and x>-(a2) and y<-rr and y>-(a2)) :# or ( x>rr and x<(a) and y<-rr and y>-(a)):\n",
        "            psq2.append((x,y))\n",
        "\n",
        "\n",
        "\n",
        "\n",
        "\n",
        "from IPython.display import clear_output\n",
        "%matplotlib inline\n",
        "import matplotlib.pyplot as plt\n",
        "plt.style.use('seaborn-whitegrid')\n",
        "\n",
        "\n",
        "xs=[i[0] for i in psq]\n",
        "ys=[i[1] for i in psq]\n",
        "\n",
        "\n",
        "xs_2=[i[0] for i in psq2]\n",
        "ys_2=[i[1] for i in psq2]\n",
        "\n",
        "\n",
        "#######################################\n",
        "##Spiral1\n",
        "# theta1 = np.radians(np.linspace(0,360*5.1,1000))\n",
        "# theta2 = np.radians(np.linspace(0,360*5,1000))\n",
        "# r1 = 10*theta1**2\n",
        "# r2 =10* theta2**2\n",
        "\n",
        "\n",
        "\n",
        "# xs_2 = (r1*np.cos(theta1))[:700]+np.random.ranf(len((r1*np.cos(theta1))[:700]))*100\n",
        "\n",
        "# ys_2 = (r1*np.sin(theta1))[:700]+np.random.ranf(len((r1*np.cos(theta1))[:700]))*100\n",
        "\n",
        "# xs = (r2*np.cos(theta2))[700:]+np.random.ranf(len((r2*np.cos(theta2))[700:]))*100\n",
        "# ys = (r2*np.sin(theta2))[700:]+np.random.ranf(len((r2*np.cos(theta2))[700:]))*100\n",
        "\n",
        "# xs=[normalize(xs[i],xs)*20-10 for i in range(len(xs))]\n",
        "# ys=[normalize(ys[i],ys)*20-10 for i in range(len(ys))]\n",
        "\n",
        "# xs_2=[normalize(xs_2[i],xs_2)*10-6.5 for i in range(len(xs_2))]\n",
        "# ys_2=[normalize(ys_2[i],ys_2)*10-3 for i in range(len(ys_2))]\n",
        "\n",
        "\n",
        "#Waves 2\n",
        "# nr=np.random.uniform(-10,10,500)\n",
        "# xs=nr+3\n",
        "# ys=np.sin(nr)\n",
        "\n",
        "# nr2=np.random.uniform(-10,10,500)\n",
        "# xs_2=nr\n",
        "# ys_2=np.sin(nr)+2\n",
        "\n",
        "\n",
        "\n",
        "\n",
        "# nr=np.random.uniform(-10,10,500)\n",
        "# xs=nr-1+np.random.ranf(len(nr))\n",
        "# ys=np.sin(nr)+np.random.ranf(len(nr))\n",
        "\n",
        "# nr2=np.random.uniform(-10,10,500)\n",
        "# xs_2=nr-np.random.ranf(len(nr))\n",
        "# ys_2=np.sin(nr)+2+np.random.ranf(len(nr))\n",
        "\n",
        "\n",
        "#####################################\n",
        "####################################\n",
        "#waves1\n",
        "# nr=np.random.uniform(-10,10,500)\n",
        "# xs=nr-1+np.random.ranf(len(nr))\n",
        "# ys=np.sin(nr)+np.random.ranf(len(nr))\n",
        "\n",
        "# nr2=np.random.uniform(-10,10,500)\n",
        "# xs_2=nr-np.random.ranf(len(nr))\n",
        "# ys_2=np.sin(nr)+4+np.random.ranf(len(nr))\n",
        "\n",
        "# nr3=np.random.uniform(-10,10,500)\n",
        "# xs_3=nr3-1+np.random.ranf(len(nr3))\n",
        "# ys_3=np.sin(nr3)-4+np.random.ranf(len(nr3))\n",
        "\n",
        "\n",
        "################################\n",
        "##################\n",
        "\n",
        "\n",
        "# # #Circle\n",
        "\n",
        "# r=65\n",
        "# a,b=-12,10\n",
        "# n=500\n",
        "# rng=np.linspace(-6,6,n)\n",
        "# rngy=np.linspace(a,-a,n)\n",
        "# rngx=np.linspace(-a,a,n)\n",
        "# p=[]\n",
        "# xy_1=[]\n",
        "# for x in rngx:\n",
        "#     for y in rngy:\n",
        "#         #xy.append(((x,y)))\n",
        "#         #z= rng[x]**2+rng[y]**2\n",
        "#         # z=-1/(1+ math.exp((-1)*((1/(1+math.exp((-1)*(x*w1+y*w2+b1))))*(w3)))) -\\\n",
        "#         # 1/(1+ math.exp((-1)*((1/(1+math.exp((-1)*(x*w4+y*w5+b2))))*(w6))))-\\\n",
        "#         # 1/(1+ math.exp((-1)*((1/(1+math.exp((-1)*(x*w7+y*w8+b3))))*(w9))))\n",
        "#         z=x**2+y**2-r\n",
        "#         xy_1.append(z)\n",
        "#         r1=np.random.randint(-7,7)*0.17\n",
        "#         r2=np.random.randint(-7,7)*0.17\n",
        "#         if z<0.1 and z>-0.1:\n",
        "#           p.append((x+r1,y+r2))\n",
        "\n",
        "\n",
        "# r=4.25\n",
        "# a,b=-6,6\n",
        "# a=-12\n",
        "# n=500\n",
        "# rng=np.linspace(-6,6,n)\n",
        "# rngy=np.linspace(a,-a,n)\n",
        "# rngx=np.linspace(-a,a,n)\n",
        "# p_2=[]\n",
        "# xy_2=[]\n",
        "# for x in rngx:\n",
        "#     for y in rngy:\n",
        "#         #xy.append(((x,y)))\n",
        "#         #z= rng[x]**2+rng[y]**2\n",
        "#         # z=-1/(1+ math.exp((-1)*((1/(1+math.exp((-1)*(x*w1+y*w2+b1))))*(w3)))) -\\\n",
        "#         # 1/(1+ math.exp((-1)*((1/(1+math.exp((-1)*(x*w4+y*w5+b2))))*(w6))))-\\\n",
        "#         # 1/(1+ math.exp((-1)*((1/(1+math.exp((-1)*(x*w7+y*w8+b3))))*(w9))))\n",
        "#         z=x**2+y**2-r\n",
        "#         xy_2.append(z)\n",
        "#         r1=np.random.randint(-5,5)*0.43\n",
        "#         r2=np.random.randint(-5,5)*0.43\n",
        "#         if z<0.1 and z>-0.1:\n",
        "#           p_2.append((x+r1,y+r2))\n",
        "#           #p_2.append((x,y))         \n",
        "# xs=[i[0] for i in p]\n",
        "# ys=[i[1] for i in p]\n",
        "\n",
        "\n",
        "# xs_2=[i[0] for i in p_2]\n",
        "# ys_2=[i[1] for i in p_2]\n",
        "\n",
        "#####################\n",
        "\n",
        "\n",
        "\n",
        "#####################################################\n",
        "# #Circle2\n",
        "\n",
        "# r=65\n",
        "# a,b=-12,10\n",
        "\n",
        "# r=14.25\n",
        "# a,b=-6,6\n",
        "# a=-12\n",
        "\n",
        "# n=500\n",
        "# rng=np.linspace(-6,6,n)\n",
        "# rngy=np.linspace(a,-a,n)\n",
        "# rngx=np.linspace(-a,a,n)\n",
        "# p=[]\n",
        "# xy_1=[]\n",
        "# for x in rngx:\n",
        "#     for y in rngy:\n",
        "#         #xy.append(((x,y)))\n",
        "#         #z= rng[x]**2+rng[y]**2\n",
        "#         # z=-1/(1+ math.exp((-1)*((1/(1+math.exp((-1)*(x*w1+y*w2+b1))))*(w3)))) -\\\n",
        "#         # 1/(1+ math.exp((-1)*((1/(1+math.exp((-1)*(x*w4+y*w5+b2))))*(w6))))-\\\n",
        "#         # 1/(1+ math.exp((-1)*((1/(1+math.exp((-1)*(x*w7+y*w8+b3))))*(w9))))\n",
        "#         z=(x+10)**2+(y-0)**2-r\n",
        "#         xy_1.append(z)\n",
        "#         r1=np.random.randint(-7,7)*0.17\n",
        "#         r2=np.random.randint(-7,7)*0.17\n",
        "#         if z<0.1 and z>-0.1:\n",
        "#           p.append((x+r1,y+r2))\n",
        "\n",
        "\n",
        "\n",
        "\n",
        "\n",
        "\n",
        "\n",
        "# r=14.25\n",
        "# a,b=-6,6\n",
        "# a=-12\n",
        "# n=500\n",
        "# rng=np.linspace(-6,6,n)\n",
        "# rngy=np.linspace(a,-a,n)\n",
        "# rngx=np.linspace(-a,a,n)\n",
        "# p_2=[]\n",
        "# xy_2=[]\n",
        "# for x in rngx:\n",
        "#     for y in rngy:\n",
        "#         #xy.append(((x,y)))\n",
        "#         #z= rng[x]**2+rng[y]**2\n",
        "#         # z=-1/(1+ math.exp((-1)*((1/(1+math.exp((-1)*(x*w1+y*w2+b1))))*(w3)))) -\\\n",
        "#         # 1/(1+ math.exp((-1)*((1/(1+math.exp((-1)*(x*w4+y*w5+b2))))*(w6))))-\\\n",
        "#         # 1/(1+ math.exp((-1)*((1/(1+math.exp((-1)*(x*w7+y*w8+b3))))*(w9))))\n",
        "#         z=x**2+y**2-r\n",
        "#         xy_2.append(z)\n",
        "#         r1=np.random.randint(-5,5)*0.17#43\n",
        "#         r2=np.random.randint(-5,5)*0.17#43\n",
        "#         if z<0.1 and z>-0.1:\n",
        "#           p_2.append((x+r1,y+r2))\n",
        "#           #p_2.append((x,y))         \n",
        "# xs=[i[0] for i in p]\n",
        "# ys=[i[1] for i in p]\n",
        "\n",
        "\n",
        "# xs_2=[i[0] for i in p_2]\n",
        "# ys_2=[i[1] for i in p_2]\n",
        "#####################################################\n",
        "\n",
        "\n",
        "########################################\n",
        "#Circle3\n",
        "nr=np.random.normal(0,10,500)#. uniform(-10,10,500)\n",
        "xs=np.sin(nr)*10+np.random.ranf(len(nr))\n",
        "ys=np.cos(nr)*10+np.random.ranf(len(nr))\n",
        "\n",
        "nr2=np.random.uniform(-10,10,500)\n",
        "xs_2=np.sin(nr)*5-np.random.ranf(len(nr))\n",
        "ys_2=np.cos(nr)*5+4+np.random.ranf(len(nr))\n",
        "\n",
        "nr3=np.random.uniform(-10,10,500)\n",
        "xs_3=np.sin(nr3)*17+np.random.ranf(len(nr3))\n",
        "ys_3=np.cos(nr3)*17+np.random.ranf(len(nr3))\n",
        "\n",
        "nr4=np.random.uniform(-10,10,500)\n",
        "xs_4=np.sin(nr4)*11.7+np.random.ranf(len(nr4))*1.1\n",
        "ys_4=np.cos(nr4)*11.7+np.random.ranf(len(nr4))*1.1\n",
        "\n",
        "\n",
        "ss=[(xs[i],ys[i],1) for i in range(len(xs))]\n",
        "ss_2=[(xs_2[i],ys_2[i],0) for i in range(len(xs_2))]\n",
        "ss_3=[(xs_3[i],ys_3[i],1) for i in range(len(xs_3))]\n",
        "ss_4=[(xs_4[i],ys_4[i],0) for i in range(len(xs_4))]\n",
        "\n",
        "##################################################\n",
        "\n",
        "\n",
        "\n",
        "\n",
        "\n",
        "# plt.scatter(x,y)\n",
        "# plt.show()\n",
        "axes = plt.gca()\n",
        "axes.set_xlim([a,-a])\n",
        "axes.set_ylim([a,-a])\n",
        "#plt.contourCircle()  (x,y,'o', color='black')\n",
        "# p\n",
        "# xs\n",
        "#ys\n",
        "#plt.plot(-1.5,1.6,'ro') \n",
        "# plt.scatter(xs,ys,color='k') \n",
        "# #plt.scatter(xs_2,ys_2, color='g') \n",
        "# plt.scatter(xs_2,ys_2, color='g')\n",
        "\n",
        "\n",
        "#p\n",
        "\n",
        "#plt.imshow(xy4.T)\n",
        "#plt.show()\n",
        "#clear_output()\n",
        "#xs_2\n",
        "\n",
        "\n",
        "a=-12\n",
        "N=50\n",
        "rngy=np.linspace(a,-a,N)\n",
        "rngx=np.linspace(-a,a,N)\n",
        "\n",
        "\n",
        "\n",
        "# ss=[(xs[i],ys[i],1) for i in range(len(xs))]\n",
        "# ss_2=[(xs_2[i],ys_2[i],0) for i in range(len(xs_2))]\n",
        "\n",
        "\n",
        "\n",
        "\n",
        "# s=[[int(s[0]),int(s[1])] for s in ss]\n",
        "# s2=[[int(s[0]),int(s[1])] for s in ss_2]\n",
        "# l=[]\n",
        "# for x in rngx:\n",
        "#   for y in rngy:\n",
        "#     if [int(x),int(y)] not in s+s2:\n",
        "#       l.append((x,y,0))\n",
        "\n",
        "\n",
        "# import pandas as pd \n",
        "\n",
        "# df_z=pd.DataFrame(l)\n",
        "# df_z=df_z.sample(frac=1).reset_index(drop=True)\n",
        "\n",
        "\n",
        "\n",
        "# plt.scatter(df_z[1],df_z[0], color='b',alpha=0.1)\n",
        "\n",
        "\n",
        "import seaborn as sns\n",
        "import pandas as pd\n",
        "import numpy as np\n",
        "import matplotlib.pyplot as plt\n",
        "%matplotlib inline\n",
        "\n",
        "\n",
        "b1=3.7;b2=-3.5;b3=-3.9\n",
        "w1=0.28;w2=1.9;w3=5.5\n",
        "w4=-1.2;w5=1.2;w6=-5.7\n",
        "w7=1.7;w8=0.55;w9=-5.6\n",
        "\n",
        "def plot2(W,B,W1,W2,Bx,train, r=0.98, concave=False):\n",
        "\n",
        "\n",
        "  #W1=W1.reshape(-1,1)\n",
        "  import math\n",
        "  xx=[];yy=[];zz=[]\n",
        "  n_=100\n",
        "  a=20#12\n",
        "  rng=np.linspace(-6,6,n_)\n",
        "  rngx=np.linspace(-a,a,n_)\n",
        "  rngy=np.linspace(a,-a,n_)\n",
        "  p3=[]; p4=[]; p5=[]\n",
        "  xy_x=[]\n",
        "  xy_x2=[]\n",
        "  for x in rngx:\n",
        "      for y in rngy:\n",
        "\n",
        "          o=[]\n",
        "          X=[[x,y]]\n",
        "          z=forward2(W,B,X)[0][-1]\n",
        "          # for i in range(0,n*2,2):\n",
        "          #   #print(i,i+1,int(i/2))\n",
        "          \n",
        "          #   o.append(sigmoid(W1[i]*x+W1[i+1]*y+Bx[int(i/2)])*W2[int(i/2)])\n",
        "\n",
        "         # z=sum(o)\n",
        "          \n",
        "          xy_x.append(z)\n",
        "\n",
        "\n",
        "\n",
        "\n",
        "\n",
        "  xy4=np.array(xy_x).reshape(n_,n_)\n",
        "\n",
        "\n",
        "\n",
        "#TAKE QUANTILES (r)\n",
        "  if concave:\n",
        "    r=1-r\n",
        "  pp=[]\n",
        "  A=np.sort(xy4.reshape(1,-1))[0]\n",
        "  for i in range(n_):\n",
        "    for j in range(n_):\n",
        "\n",
        "      if concave:\n",
        "        if xy4[i,j]<=max(set(list(A[:int(len(A)*r)]))):\n",
        "          pp.append((rngx[i],rngy[j]))\n",
        "      else:\n",
        "        \n",
        "        if xy4[i,j]>=min(set(list(A[int(len(A)*r):]))):\n",
        "          pp.append((rngx[i],rngy[j]))\n",
        "\n",
        "\n",
        "        \n",
        "\n",
        "\n",
        "  pp_x=[i[0] for i in pp]\n",
        "\n",
        "  pp_y=[i[1] for i in pp]\n",
        "\n",
        "\n",
        "\n",
        "  plt.rcParams[\"axes.grid\"] = False\n",
        "\n",
        "\n",
        "\n",
        "  \n",
        "\n",
        "  fig, ax = plt.subplots()\n",
        "  \n",
        "  df_2=pd.DataFrame([pp_x,pp_y])\n",
        "\n",
        "  sns.kdeplot(df_2.T, ax=ax)\n",
        "\n",
        "\n",
        "  \n",
        "  R=20\n",
        "\n",
        "  # sns.scatterplot(x=xs, y=ys, ax=ax).set(xlim=(-R,R),ylim=(-R,R))\n",
        "  # sns.scatterplot(x=xs_2, y=ys_2, ax=ax).set(xlim=(-R,R),ylim=(-R,R))\n",
        "  # sns.scatterplot(x=xs_3, y=ys_3, ax=ax).set(xlim=(-R,R),ylim=(-R,R))\n",
        "\n",
        "  sns.scatterplot(df.iloc[np.where(df[2]==0)][0],df.iloc[np.where(df[2]==0)][1], ax=ax).set(xlim=(-R,R),ylim=(-R,R))\n",
        "  sns.scatterplot(df.iloc[np.where(df[2]==1)][0],df.iloc[np.where(df[2]==1)][1], ax=ax).set(xlim=(-R,R),ylim=(-R,R))\n",
        "\n",
        "\n",
        "  \n",
        "  \n",
        "  \n",
        "\n",
        "  plt.show()\n",
        "\n",
        "  #xy4=np.array(xy_x).reshape(100,100)\n",
        "\n",
        "  plt.imshow(xy4.T)\n",
        "  \n",
        "  plt.show()\n",
        "\n",
        "\n",
        "\n",
        "  ################### WIREFRAME\n",
        "  x=np.array([[x]*100 for x in rngx])\n",
        "\n",
        "  # arr=[]\n",
        "  # for i in range(100):\n",
        "  #   arr.append(rngy)\n",
        "  y=np.array(rngy)\n",
        "\n",
        "  z=xy4\n",
        "\n",
        "  fig = plt.figure()\n",
        "  ax = fig.add_subplot(111, projection = '3d')\n",
        "\n",
        "  #x, y, z = axes3d.get_test_data()\n",
        "\n",
        "  ax.plot_wireframe(x, y, z, rstride = 2, cstride = 2)\n",
        "  \n",
        "\n",
        "\n",
        "  plt.tight_layout()\n",
        "  plt.show()\n",
        "  #################\n",
        "\n",
        "\n",
        "  print(\"max: \",max(xy_x),\"min: \", min(xy_x))\n",
        "  print(\"abs(min-max): \", np.abs(min(xy_x)-max(xy_x)))\n",
        "  return max(xy_x)\n",
        "\n",
        "\n",
        "#with batch option \n",
        "import copy\n",
        "\n",
        "#n=4\n",
        "N=[2,4,7,4]\n",
        "#N=[2,4,40,20,40,4]\n",
        "\n",
        "\n",
        "N=[2, 5,3,5,4, 7]\n",
        "N=[2,5,7,5,14,15,5,5,12,6]\n",
        "#N=[2, 8,6,5,4,13,5]\n",
        "\n",
        "N=[2,8,7,10,12,5]\n",
        "N=[2,80,52,40,17]\n",
        "\n",
        "N=[2,8,18,28,180,8,8]\n",
        "N=[2,8,8,8,18,8,8,7,10]\n",
        "#N=[2, 5,3,5,4, 7]\n",
        "#N=[2, 5,5,7]\n",
        "\n",
        "W,B=generateWandB(N)\n",
        "\n",
        "BATCH=10\n",
        "eta= 0.031253013#03073010730108035103103083040170713004103071020917108530725972087075341070509703508578570710510510107107#0.006512\n",
        "import math\n",
        "#import copy\n",
        "\n",
        "#W1=W;W2=W; Bx=W\n",
        "n=N[1]\n",
        "W1=W[0]#np.array(np.random.normal(0, 1, n*2)).reshape(n,2)\n",
        "\n",
        "W2=W[1]#np.random.normal(0, 1, n)\n",
        "\n",
        "Bx=B[0]#np.random.normal(0, 1, n)\n",
        "\n",
        "\n",
        "epochs=100000#13400\n",
        "a2=[]\n",
        "\n",
        "def relu(z):\n",
        "\n",
        "  #return np.array([max(0,e) for e in z ])\n",
        "  #leaky\n",
        "  return np.array([e if e>0 else 0.01*e for e in z ])\n",
        "\n",
        "\n",
        "def sigmoid(z):\n",
        "  #print(z)\n",
        "  # if z<-200:\n",
        "  #     return 0\n",
        "  try:\n",
        "    sig= 1/(1+np.exp(-z))\n",
        "  except:\n",
        "    sig= 1/(1+np.exp(-z*0))\n",
        "\n",
        "  return sig\n",
        "\n",
        "\n",
        "def softmax(z):\n",
        "  res=np.exp(z)/np.sum(np.exp(z))\n",
        "  return res\n",
        "\n",
        "\n",
        "\n",
        "\n",
        "\n",
        "\n",
        "\n",
        "#################    MAIN     ########################\n",
        "\n",
        "ss=[(xs[i],ys[i],0) for i in range(len(xs))]\n",
        "ss_2=[(xs_2[i],ys_2[i],1) for i in range(len(xs_2))]\n",
        "#df=pd.concat([pd.DataFrame(ss), pd.DataFrame(ss_2)])\n",
        "\n",
        "ss_3=[(xs_3[i],ys_3[i],1) for i in range(len(xs_3))]\n",
        "#df=pd.concat([pd.DataFrame(ss), pd.DataFrame(ss_2),pd.DataFrame(ss_3)])\n",
        "\n",
        "ss_4=[(xs_4[i],ys_4[i],0) for i in range(len(xs_4))]\n",
        "\n",
        "df=pd.concat([pd.DataFrame(ss), pd.DataFrame(ss_2),pd.DataFrame(ss_3),pd.DataFrame(ss_3)])\n",
        "\n",
        "# df[0]=[(i - min(df[0]) )/(max(df[0]) - min(df[0])) for i in df[0]]\n",
        "# df[1]=[(i - min(df[1]) )/(max(df[1]) - min(df[1])) for i in df[1]]\n",
        "\n",
        "test_acc=0; train_acc=0\n",
        "\n",
        "\n",
        "\n",
        "\n",
        "for i in range(epochs):\n",
        "\n",
        "\n",
        "  \n",
        "  df=df.sample(frac=1).reset_index(drop=True)\n",
        "  \n",
        "  testfrac=0.803609170611490758505840\n",
        "  thresh=int(len(df)*testfrac)\n",
        "  test=df[:thresh]\n",
        "  train=df[thresh:]\n",
        "  \n",
        "  \n",
        "  if i%5==0:# and i>BATCH:\n",
        "    test_acc=testAcuracy(test,W,B)\n",
        "    train_acc=testAcuracy(train,W,B)\n",
        "\n",
        "\n",
        "  #print('\\r',i, end='')\n",
        "\n",
        "\n",
        "  if i%25==0:\n",
        "    clear_output(wait=True)\n",
        "    plot2(W,B,W1,W2,B,train,.8078040608068248585025, True)\n",
        "\n",
        "  err=[]\n",
        " \n",
        "\n",
        "  #for j in range(1):# list(range(0,len(train),BATCH)):\n",
        "  for j in   list(range(0,len(train),BATCH)):\n",
        "    w2up=[]; w1up=[]; bup=[]\n",
        "    loss=[]; Loss=[] \n",
        "    Wup=[]; Bup=[]; \n",
        "\n",
        "\n",
        "    batch=train[j:j+BATCH]\n",
        "    count=0\n",
        "    #for row in [[1,1,1], [1,2,0]]:#[rrr]:#batch.iterrows():\n",
        "    for row in batch.iterrows():\n",
        "       count+=1\n",
        "       Wupx=[]; Bupx=[]\n",
        "       x1=row[1][0]; x2=row[1][1]; y=row[1][2]\n",
        "       #x1=row[0]; x2=row[1]; y=row[2]\n",
        "       x1=np.array(x1)\n",
        "       x2=np.array(x2)\n",
        "       X=[[x1,x2]]\n",
        "       y=np.array(y)\n",
        "################################   FORWARD PASS    ########################\n",
        "       A,I=forward2(W,B,X)  \n",
        "################################   BACKWARD PASS   ########################\n",
        "\n",
        "       lw=list(range(len(W)))[::-1]\n",
        "       #lb=list(range(len(W)-1))[::-1]\n",
        "       lb=lw[:len(lw)-1]\n",
        "       for l in lw:\n",
        "         Wupx.append(backward2(W,A,I,X, y, eta,k=l)[0])\n",
        "       for l in lb:\n",
        "         Bupx.append(backward2(W,A,I,X, y, eta,k=l)[1])\n",
        "       \n",
        "       Wup.append(Wupx); Bup.append(Bupx)\n",
        "\n",
        "       An=sigmoid(I[-1])\n",
        "       #dE_dI=np.abs(-1*((y*(1/I[-1])+(1-y)*(1/(1-I[-1])))) )\n",
        "      #  dE_dAn=np.abs(-1*((y*(np.log(1/An))+(1-y)*((1-np.log(1/(1-An)))))) )\n",
        "\n",
        "      #  dE_dAn=np.abs(((y*((An))+(1-y)*((1-((1-An)))))) )\n",
        "\n",
        "\n",
        "       dE_dAn=-y*(np.log(An))-(1-y)*(np.log(1-(1-An)))\n",
        "\n",
        "\n",
        "       Loss.append(dE_dAn)\n",
        "\n",
        "\n",
        "    if count>1:\n",
        "      #print(\"count\")\n",
        "      #print(\"Wup:\",Wup)\n",
        "      Wup=sumMat(Wup); Bup=sumMat(Bup)\n",
        "    else:\n",
        "      Wup=Wup[0]\n",
        "      Bup=Bup[0]\n",
        "\n",
        "    Wup=[np.array(m) for m in Wup]\n",
        "    for l in range(len(Wup)):\n",
        "      Wup[l][[np.isnan(np.array(m)) for m in Wup][l]]=np.random.normal(0, 1, 1)*0\n",
        "\n",
        "    Bup=[np.array(m) for m in Bup]\n",
        "    for l in range(len(Bup)):\n",
        "      Bup[l][[np.isnan(np.array(m)) for m in Bup][l]]=np.random.normal(0, 1, 1)*0\n",
        "\n",
        "\n",
        "\n",
        "    W,B=update2(Wup,Bup, W, B)\n",
        "\n",
        "\n",
        "  print(\"\\rLoss = {}; epoch = {}; train acc. = {}; test acc. = {}.\".format(round(np.nanmean(Loss),3),i,round(test_acc,3),round(train_acc,3)),end='')#Loss[~np.isnan(Loss)].mean(),end='\\n')\n",
        "  #print(\"LOSS2 = \", np.mean(Loss),end='\\n')\n"
      ],
      "execution_count": null,
      "outputs": [
        {
          "output_type": "display_data",
          "data": {
            "image/png": "[encoded data removed]",
            "text/plain": [
              "<Figure size 432x288 with 1 Axes>"
            ]
          },
          "metadata": {
            "tags": [],
            "needs_background": "light"
          }
        },
        {
          "output_type": "display_data",
          "data": {
            "image/png": "[encoded data removed]",
            "text/plain": [
              "<Figure size 432x288 with 1 Axes>"
            ]
          },
          "metadata": {
            "tags": [],
            "needs_background": "light"
          }
        },
        {
          "output_type": "display_data",
          "data": {
            "image/png": "[encoded data removed]",
            "text/plain": [
              "<Figure size 432x288 with 1 Axes>"
            ]
          },
          "metadata": {
            "tags": [],
            "needs_background": "light"
          }
        },
        {
          "output_type": "stream",
          "text": [
            "max:  0.9999559126694687 min:  0.5573891263472102\n",
            "abs(min-max):  0.44256678632225854\n",
            "Loss = 0.22; epoch = 136; train acc. = 0.867; test acc. = 0.882."
          ],
          "name": "stdout"
        }
      ]
    },
    {
      "cell_type": "code",
      "metadata": {
        "id": "9hixWtBLllP7",
        "colab_type": "code",
        "colab": {}
      },
      "source": [
        "#df.iloc[:,:2]\n",
        "#for row in df.iloc[np.where(df[2]==0)].iloc[:,:2]:\n",
        "#df2=df.iloc[np.where(df[2]==0)].iloc[:,:2]\n",
        "#test=df[:thresh]\n",
        "\n",
        "#agg=[]\n",
        "# for row in test0.iterrows():\n",
        "#   x1=row[1][0]; x2=row[1][1]\n",
        "#   print(forward2(W, B, [[x1,x2]])[0][-1])\n",
        "\n",
        "\n",
        "def testAcuracy(test, W, B):\n",
        "\n",
        "  test0=test.iloc[np.where(test[2]==0)]\n",
        "  test1=test.iloc[np.where(test[2]==1)]\n",
        "\n",
        "\n",
        "  pred0=[forward2(W, B, [[row[1][0],row[1][1]]])[0][-1] for row in test0.iterrows()]\n",
        "  pred1=[forward2(W, B, [[row[1][0],row[1][1]]])[0][-1] for row in test1.iterrows()]\n",
        "\n",
        "  mp0=np.mean(pred0)+2*np.std(pred0)\n",
        "  mp1=np.mean(pred1)-0.5*np.std(pred1)\n",
        "  \n",
        "  \n",
        "  acc=((sum(pred0<=mp0)/len(pred0))+(sum(pred1>=mp1)/len(pred1)))/2\n",
        "\n",
        "  mp=np.array(0.85)\n",
        "\n",
        "  acc=((sum(pred0<=mp0)/len(pred0))+(sum(pred1>=mp0)/len(pred1)))/2\n",
        "\n",
        "\n",
        "\n",
        "  return acc\n",
        "  \n",
        "  \n",
        "  #print(forward2(W, B, [[x1,x2]])[0][-1])\n",
        "\n",
        "#forward2(W, B, [[8,8]])[0][-1]"
      ],
      "execution_count": 8,
      "outputs": []
    },
    {
      "cell_type": "code",
      "metadata": {
        "id": "AI2g3JHhGuSS",
        "colab_type": "code",
        "colab": {
          "base_uri": "https://localhost:8080/",
          "height": 34
        },
        "outputId": "bd209c63-0067-4e1c-e354-3bc9d5dc4266"
      },
      "source": [
        "\n",
        "1-np.log(1/(1-An))\n",
        "-1*((y*(np.log(1/An))+(1-y)*((1-np.log(1/(1-An)))))) \n",
        "\n",
        "mp0=np.array(.95)\n",
        "mp1=np.array(.65)\n",
        "#sum(pred0<mp0)\n",
        "#len(pred1)\n",
        "\n",
        "testAcuracy(test,W,B)\n"
      ],
      "execution_count": null,
      "outputs": [
        {
          "output_type": "execute_result",
          "data": {
            "text/plain": [
              "0.9676874076232904"
            ]
          },
          "metadata": {
            "tags": []
          },
          "execution_count": 36
        }
      ]
    },
    {
      "cell_type": "code",
      "metadata": {
        "id": "64fA-kWUtrkX",
        "colab_type": "code",
        "colab": {
          "base_uri": "https://localhost:8080/",
          "height": 34
        },
        "outputId": "6c04c786-f49e-4b48-f9c7-eb0336bc00c9"
      },
      "source": [
        "test0=test.iloc[np.where(test[2]==0)]\n",
        "test1=test.iloc[np.where(test[2]==1)]\n",
        "\n",
        "\n",
        "pred0=[forward2(W, B, [[row[1][0],row[1][1]]])[0][-1] for row in test0.iterrows()]\n",
        "pred1=[forward2(W, B, [[row[1][0],row[1][1]]])[0][-1] for row in test1.iterrows()]\n",
        "\n",
        "mp0=np.mean(pred0)+2.5*np.std(pred0)\n",
        "\n",
        "mp1=np.mean(pred1)#-1.5*np.std(pred1)\n",
        "\n",
        "#mp0=np.array(.85)\n",
        "acc=((sum(pred0<=mp0)/len(pred0))+(sum(pred1>=mp1)/len(pred1)))/2\n",
        "acc=((sum(pred0<=mp0)/len(pred0))+(sum(pred1>=mp0)/len(pred1)))/2\n",
        "acc\n",
        "#testAcuracy(test)\n",
        "# sum(pred0<=mp0)/len(pred0)\n",
        "# sum(pred1>=mp0)/len(pred1)\n"
      ],
      "execution_count": null,
      "outputs": [
        {
          "output_type": "execute_result",
          "data": {
            "text/plain": [
              "0.974004413264775"
            ]
          },
          "metadata": {
            "tags": []
          },
          "execution_count": 37
        }
      ]
    },
    {
      "cell_type": "code",
      "metadata": {
        "id": "Sbg128Vy-adc",
        "colab_type": "code",
        "colab": {
          "base_uri": "https://localhost:8080/",
          "height": 279
        },
        "outputId": "a441188a-c3eb-4efd-81ae-e8309fa52c24"
      },
      "source": [
        "plt.hist([pred1,pred0])\n",
        "plt.axvline(mp0, 0, 1, label='pyplot vertical line')\n",
        "plt.axvline(mp1, 0, 1, label='pyplot vertical line')\n",
        "np.mean(pred0)\n"
      ],
      "execution_count": null,
      "outputs": [
        {
          "output_type": "execute_result",
          "data": {
            "text/plain": [
              "0.655340569692142"
            ]
          },
          "metadata": {
            "tags": []
          },
          "execution_count": 49
        },
        {
          "output_type": "display_data",
          "data": {
            "image/png": "[encoded data removed]",
            "text/plain": [
              "<Figure size 432x288 with 1 Axes>"
            ]
          },
          "metadata": {
            "tags": [],
            "needs_background": "light"
          }
        }
      ]
    },
    {
      "cell_type": "code",
      "metadata": {
        "id": "YmLEkGdA5RcZ",
        "colab_type": "code",
        "colab": {}
      },
      "source": [
        "mp0=np.mean(pred0)\n",
        "mp1=np.mean(pred1)\n",
        "\n",
        "#np.mean(pred0)#+np.std(pred0)\n",
        "#np.median(pred1)-np.std(pred1)\n",
        "sum(pred0>=mp0)/len(pred0)\n",
        "#sum(pred1>=mp0)/len(pred1)\n",
        "-np.log(mp1)\n",
        "-np.log(pred0)"
      ],
      "execution_count": null,
      "outputs": []
    },
    {
      "cell_type": "code",
      "metadata": {
        "id": "TZ9YYJIzp_7S",
        "colab_type": "code",
        "colab": {
          "base_uri": "https://localhost:8080/",
          "height": 34
        },
        "outputId": "e65b183e-4a82-49f4-8826-12fee9517dd1"
      },
      "source": [
        "#mp0=np.mean(pred0)+2.5*np.std(pred0)\n",
        "#sum(pred0<=mp0)/len(pred0)\n",
        "mp1\n",
        "testAcuracy(test,W,B)"
      ],
      "execution_count": null,
      "outputs": [
        {
          "output_type": "execute_result",
          "data": {
            "text/plain": [
              "0.9393872277593207"
            ]
          },
          "metadata": {
            "tags": []
          },
          "execution_count": 160
        }
      ]
    },
    {
      "cell_type": "code",
      "metadata": {
        "id": "SjVbm3rAqgzP",
        "colab_type": "code",
        "colab": {
          "base_uri": "https://localhost:8080/",
          "height": 34
        },
        "outputId": "7c0b2568-2d4a-4c0f-e1ac-69c6630ba4b9"
      },
      "source": [
        "#mp1=np.mean(pred1)-2.5*np.std(pred1)\n",
        "#sum(pred1>=mp1)/len(pred1)\n",
        "pred1\n",
        "np.mean(pred1)-2.5*np.std(pred1)\n",
        "sum(pred0<=mp0)/len(pred0)\n",
        "sum(pred1>=mp1)/len(pred1)\n",
        "((sum(pred0<=mp0)/len(pred0))+(sum(pred1>=mp1)/len(pred1)))/2"
      ],
      "execution_count": null,
      "outputs": [
        {
          "output_type": "execute_result",
          "data": {
            "text/plain": [
              "0.9463660961490058"
            ]
          },
          "metadata": {
            "tags": []
          },
          "execution_count": 141
        }
      ]
    },
    {
      "cell_type": "code",
      "metadata": {
        "id": "QZzu-hdVrAUl",
        "colab_type": "code",
        "colab": {
          "base_uri": "https://localhost:8080/",
          "height": 34
        },
        "outputId": "af22d42e-22fb-434b-e20a-6239d68c61e7"
      },
      "source": [
        "np.mean(pred1)-2.5*np.std(pred1)\n",
        "np.mean(pred0)+2.5*np.std(pred0)"
      ],
      "execution_count": null,
      "outputs": [
        {
          "output_type": "execute_result",
          "data": {
            "text/plain": [
              "0.8702642152238127"
            ]
          },
          "metadata": {
            "tags": []
          },
          "execution_count": 112
        }
      ]
    },
    {
      "cell_type": "code",
      "metadata": {
        "id": "t1M2U8Dvoo-M",
        "colab_type": "code",
        "colab": {
          "base_uri": "https://localhost:8080/",
          "height": 419
        },
        "outputId": "44422365-2d33-44b5-834e-80870704036e"
      },
      "source": [
        "test1.iloc[:,:2]"
      ],
      "execution_count": null,
      "outputs": [
        {
          "output_type": "execute_result",
          "data": {
            "text/html": [
              "<div>\n",
              "<style scoped>\n",
              "    .dataframe tbody tr th:only-of-type {\n",
              "        vertical-align: middle;\n",
              "    }\n",
              "\n",
              "    .dataframe tbody tr th {\n",
              "        vertical-align: top;\n",
              "    }\n",
              "\n",
              "    .dataframe thead th {\n",
              "        text-align: right;\n",
              "    }\n",
              "</style>\n",
              "<table border=\"1\" class=\"dataframe\">\n",
              "  <thead>\n",
              "    <tr style=\"text-align: right;\">\n",
              "      <th></th>\n",
              "      <th>0</th>\n",
              "      <th>1</th>\n",
              "    </tr>\n",
              "  </thead>\n",
              "  <tbody>\n",
              "    <tr>\n",
              "      <th>0</th>\n",
              "      <td>-1.572586</td>\n",
              "      <td>9.456758</td>\n",
              "    </tr>\n",
              "    <tr>\n",
              "      <th>1</th>\n",
              "      <td>-13.153614</td>\n",
              "      <td>10.585119</td>\n",
              "    </tr>\n",
              "    <tr>\n",
              "      <th>2</th>\n",
              "      <td>-15.375017</td>\n",
              "      <td>-5.332812</td>\n",
              "    </tr>\n",
              "    <tr>\n",
              "      <th>3</th>\n",
              "      <td>-13.011498</td>\n",
              "      <td>10.123971</td>\n",
              "    </tr>\n",
              "    <tr>\n",
              "      <th>4</th>\n",
              "      <td>-9.004814</td>\n",
              "      <td>-13.965195</td>\n",
              "    </tr>\n",
              "    <tr>\n",
              "      <th>...</th>\n",
              "      <td>...</td>\n",
              "      <td>...</td>\n",
              "    </tr>\n",
              "    <tr>\n",
              "      <th>1828</th>\n",
              "      <td>0.669163</td>\n",
              "      <td>-0.412784</td>\n",
              "    </tr>\n",
              "    <tr>\n",
              "      <th>1829</th>\n",
              "      <td>-13.766481</td>\n",
              "      <td>-8.964978</td>\n",
              "    </tr>\n",
              "    <tr>\n",
              "      <th>1830</th>\n",
              "      <td>-1.059057</td>\n",
              "      <td>9.551282</td>\n",
              "    </tr>\n",
              "    <tr>\n",
              "      <th>1831</th>\n",
              "      <td>15.084860</td>\n",
              "      <td>-8.872088</td>\n",
              "    </tr>\n",
              "    <tr>\n",
              "      <th>1832</th>\n",
              "      <td>-2.022924</td>\n",
              "      <td>0.294973</td>\n",
              "    </tr>\n",
              "  </tbody>\n",
              "</table>\n",
              "<p>1373 rows × 2 columns</p>\n",
              "</div>"
            ],
            "text/plain": [
              "              0          1\n",
              "0     -1.572586   9.456758\n",
              "1    -13.153614  10.585119\n",
              "2    -15.375017  -5.332812\n",
              "3    -13.011498  10.123971\n",
              "4     -9.004814 -13.965195\n",
              "...         ...        ...\n",
              "1828   0.669163  -0.412784\n",
              "1829 -13.766481  -8.964978\n",
              "1830  -1.059057   9.551282\n",
              "1831  15.084860  -8.872088\n",
              "1832  -2.022924   0.294973\n",
              "\n",
              "[1373 rows x 2 columns]"
            ]
          },
          "metadata": {
            "tags": []
          },
          "execution_count": 75
        }
      ]
    },
    {
      "cell_type": "code",
      "metadata": {
        "id": "-32y5vQi07Pg",
        "colab_type": "code",
        "colab": {}
      },
      "source": [
        "def normalize(a,b):\n",
        "  res=(a - min(b)) / ( max(b) - min(b) )\n",
        "\n",
        "  return res\n",
        "\n",
        "    "
      ],
      "execution_count": null,
      "outputs": []
    },
    {
      "cell_type": "code",
      "metadata": {
        "id": "jneEsbuULs6a",
        "colab_type": "code",
        "colab": {
          "base_uri": "https://localhost:8080/",
          "height": 34
        },
        "outputId": "8a76f36d-4593-41bd-d8e1-884140d11360"
      },
      "source": [
        "#Loss[~np.isnan(Loss)]\n",
        "np.nanmean"
      ],
      "execution_count": null,
      "outputs": [
        {
          "output_type": "execute_result",
          "data": {
            "text/plain": [
              "<function numpy.nanmean>"
            ]
          },
          "metadata": {
            "tags": []
          },
          "execution_count": 61
        }
      ]
    },
    {
      "cell_type": "code",
      "metadata": {
        "id": "e1wbV54LBSu2",
        "colab_type": "code",
        "colab": {
          "base_uri": "https://localhost:8080/",
          "height": 34
        },
        "outputId": "9d264824-0958-4041-b63e-54e7406d99a7"
      },
      "source": [
        "N"
      ],
      "execution_count": null,
      "outputs": [
        {
          "output_type": "execute_result",
          "data": {
            "text/plain": [
              "[2, 80, 52, 40, 17]"
            ]
          },
          "metadata": {
            "tags": []
          },
          "execution_count": 97
        }
      ]
    },
    {
      "cell_type": "code",
      "metadata": {
        "id": "y3YyrgJk-cFa",
        "colab_type": "code",
        "colab": {}
      },
      "source": [
        "W=[([[-0.53666105, -0.53579372],\n",
        "        [-1.19712349,  0.32678271],\n",
        "        [ 1.03608261, -0.75358774],\n",
        "        [-0.00931657, -0.00218147],\n",
        "        [ 0.71620007, -0.15213732],\n",
        "        [-1.72005796,  1.7488977 ],\n",
        "        [ 0.26172566, -1.22377013]]),\n",
        " ([-0.77196721,  0.41079926, -0.07902365, -1.53676624,  0.15160013,\n",
        "         0.05588476,  0.46094505])]\n",
        "B= [([ 473.6134765 ,   -8.51873646,   -6.12254349,   78.14056371,\n",
        "         -5.09917034,   -6.18954292,    5.73742657])]"
      ],
      "execution_count": null,
      "outputs": []
    },
    {
      "cell_type": "code",
      "metadata": {
        "id": "ujkT-ey8-kyB",
        "colab_type": "code",
        "colab": {
          "base_uri": "https://localhost:8080/",
          "height": 34
        },
        "outputId": "c2bbdd5a-a0e1-4bb0-8fb5-cbfd9d558cd7"
      },
      "source": [
        "0.53666105+ 0.01090818"
      ],
      "execution_count": null,
      "outputs": [
        {
          "output_type": "execute_result",
          "data": {
            "text/plain": [
              "0.54756923"
            ]
          },
          "metadata": {
            "tags": []
          },
          "execution_count": 28
        }
      ]
    },
    {
      "cell_type": "code",
      "metadata": {
        "id": "eL73YWEV-TAI",
        "colab_type": "code",
        "colab": {
          "base_uri": "https://localhost:8080/",
          "height": 153
        },
        "outputId": "a31ca7b2-0dbc-4046-85fe-5d232f56c59e"
      },
      "source": [
        "#Wa,Ba=update2(Wup,Bup, W, B)\n",
        "print(\"Wa=\",Wa)"
      ],
      "execution_count": null,
      "outputs": [
        {
          "output_type": "stream",
          "text": [
            "Wa= [array([[-0.54756923, -0.54507226],\n",
            "       [-1.1910333 ,  0.33196306],\n",
            "       [ 1.0381697 , -0.75192554],\n",
            "       [-0.00931657, -0.00218147],\n",
            "       [ 0.71047067, -0.15691535],\n",
            "       [-1.71994285,  1.74876742],\n",
            "       [ 0.2685241 , -1.21801534]]), array([-0.78481259,  0.39777004, -0.09216963, -1.53676624,  0.13152498,\n",
            "        0.04955998,  0.44995559])]\n"
          ],
          "name": "stdout"
        }
      ]
    },
    {
      "cell_type": "markdown",
      "metadata": {
        "id": "_Vp9dEbCcQVg",
        "colab_type": "text"
      },
      "source": [
        ""
      ]
    },
    {
      "cell_type": "code",
      "metadata": {
        "id": "R3XS0pl9cQ1O",
        "colab_type": "code",
        "colab": {}
      },
      "source": [
        "N=[2,8]\n",
        "Wupx=[]; Bupx=[]\n",
        "W,B=generateWandB(N)\n",
        "\n",
        "A,I=forward2(W,B,[[1,2]])\n",
        "for i in lw:\n",
        "  Wupx.append(backward2(W,A,I,X, y, eta,k=i)[0])\n",
        "for i in lb:\n",
        "  Bupx.append(backward2(W,A,I,X, y, eta,k=i)[1])"
      ],
      "execution_count": null,
      "outputs": []
    },
    {
      "cell_type": "code",
      "metadata": {
        "id": "bLffZ8Kx1K45",
        "colab_type": "code",
        "colab": {
          "base_uri": "https://localhost:8080/",
          "height": 187
        },
        "outputId": "0f02d591-d419-4614-c809-c0681d973d58"
      },
      "source": [
        "sumMat(Wupx)\n",
        "#a=[]\n",
        "sumMat(a)"
      ],
      "execution_count": null,
      "outputs": [
        {
          "output_type": "execute_result",
          "data": {
            "text/plain": [
              "[array([[-0.47584519,  3.21011604],\n",
              "        [-1.55772484, -2.91079209],\n",
              "        [ 2.07223403,  2.49687171],\n",
              "        [ 0.69894641, -2.84037206],\n",
              "        [ 0.93667328,  2.08229861],\n",
              "        [ 3.12316908, -3.1305517 ],\n",
              "        [-1.31614699,  0.81718305],\n",
              "        [ 2.30658177, -1.22444818]]),\n",
              " array([ 1.35875968,  3.50496053, -0.28271224,  1.22416366,  0.30820082,\n",
              "         3.65323422, -1.22485323,  0.45678918])]"
            ]
          },
          "metadata": {
            "tags": []
          },
          "execution_count": 375
        }
      ]
    },
    {
      "cell_type": "code",
      "metadata": {
        "id": "fcOkV38_isal",
        "colab_type": "code",
        "colab": {
          "base_uri": "https://localhost:8080/",
          "height": 34
        },
        "outputId": "c3e4a175-c588-48d1-986d-e7ed14b66be8"
      },
      "source": [
        "i=1\n",
        "np.dot(W[i],A[i-1])==np.dot(A[i-1],W[i])"
      ],
      "execution_count": null,
      "outputs": [
        {
          "output_type": "execute_result",
          "data": {
            "text/plain": [
              "True"
            ]
          },
          "metadata": {
            "tags": []
          },
          "execution_count": 353
        }
      ]
    },
    {
      "cell_type": "code",
      "metadata": {
        "id": "LGn3mF-Hcdi5",
        "colab_type": "code",
        "colab": {
          "base_uri": "https://localhost:8080/",
          "height": 51
        },
        "outputId": "ab15f57f-ade6-4773-dba8-eab7cde30106"
      },
      "source": [
        "A"
      ],
      "execution_count": null,
      "outputs": [
        {
          "output_type": "execute_result",
          "data": {
            "text/plain": [
              "[array([0.0578546 , 4.05309956, 1.08946277, 0.21658867, 0.        ,\n",
              "        0.49942415, 3.35685041, 0.05366979]), 0.0005960675703298483]"
            ]
          },
          "metadata": {
            "tags": []
          },
          "execution_count": 298
        }
      ]
    },
    {
      "cell_type": "code",
      "metadata": {
        "id": "e8u7CkNoYZaB",
        "colab_type": "code",
        "colab": {
          "base_uri": "https://localhost:8080/",
          "height": 51
        },
        "outputId": "96c6f2b9-4921-45f4-be25-865ccf70ff4e"
      },
      "source": [
        "I"
      ],
      "execution_count": null,
      "outputs": [
        {
          "output_type": "execute_result",
          "data": {
            "text/plain": [
              "[array([ 1.98418772, 11.31557956,  5.54535927, 11.13685615, -5.25574083,\n",
              "        -3.66530172,  1.25343529]), 3.48354621382529]"
            ]
          },
          "metadata": {
            "tags": []
          },
          "execution_count": 246
        }
      ]
    },
    {
      "cell_type": "code",
      "metadata": {
        "id": "2gTPQT1bbfNo",
        "colab_type": "code",
        "colab": {
          "base_uri": "https://localhost:8080/",
          "height": 51
        },
        "outputId": "6066fe54-0857-4565-e768-cbb00e2c86c5"
      },
      "source": [
        "A"
      ],
      "execution_count": null,
      "outputs": [
        {
          "output_type": "execute_result",
          "data": {
            "text/plain": [
              "[array([4.4189709 , 0.        , 9.16243825, 0.        , 2.29722941,\n",
              "        7.11538818, 0.        ])]"
            ]
          },
          "metadata": {
            "tags": []
          },
          "execution_count": 255
        }
      ]
    },
    {
      "cell_type": "code",
      "metadata": {
        "id": "ji8OQ2_EZyOm",
        "colab_type": "code",
        "colab": {
          "base_uri": "https://localhost:8080/",
          "height": 34
        },
        "outputId": "f672eab1-1c8d-44a8-e180-9fd65aa6d1db"
      },
      "source": [
        "i=0\n",
        "n=1\n",
        "n-i\n",
        "#np.array([0 if e==0 else 1 for e in A[n-i] ])  \n",
        "n-"
      ],
      "execution_count": null,
      "outputs": [
        {
          "output_type": "execute_result",
          "data": {
            "text/plain": [
              "1"
            ]
          },
          "metadata": {
            "tags": []
          },
          "execution_count": 195
        }
      ]
    },
    {
      "cell_type": "code",
      "metadata": {
        "id": "IRbg8h1Vb3XS",
        "colab_type": "code",
        "colab": {}
      },
      "source": [
        "n=len(N)-1\n"
      ],
      "execution_count": null,
      "outputs": []
    },
    {
      "cell_type": "code",
      "metadata": {
        "id": "QS-xdf5JHmCt",
        "colab_type": "code",
        "colab": {}
      },
      "source": [
        "for i in range(0):\n",
        "  print(i)"
      ],
      "execution_count": null,
      "outputs": []
    },
    {
      "cell_type": "code",
      "metadata": {
        "id": "yMW_Xukerxp-",
        "colab_type": "code",
        "colab": {
          "base_uri": "https://localhost:8080/",
          "height": 272
        },
        "outputId": "ec079cae-199e-408d-9c92-02da1e5bf586"
      },
      "source": [
        "W2= [([[  5.17962104,  55.32601734],\n",
        "       [  7.12644327,   0.40215257],\n",
        "       [ -4.18731366,  18.18822724],\n",
        "       [ 12.38295856,   3.74009811],\n",
        "       [         float('nan'),          float('nan')],\n",
        "       [ 15.03125264,   5.62789978],\n",
        "       [ -7.38068363, -23.927293  ],\n",
        "       [  3.52038849,  -6.73506455],\n",
        "       [ -3.85261355,  -7.2477493 ],\n",
        "       [ -0.48533834, -11.42604759],\n",
        "       [-31.39707354,  -8.15871285],\n",
        "       [         float('nan'),          float('nan')]]), ([ 4.83440445e+01, -6.78489918e+01,  1.64341689e+01, -6.44509734e+01,\n",
        "       -3.79068927e+01, -6.07105530e+01, -2.70925282e+01, -1.75164434e+01,\n",
        "       -5.20448097e+00, -8.60342158e+00, -2.01139530e+01,  2.31933166e-02])]\n",
        "# [np.isnan(W2[i][j]).all() for i in range(len(W2)) for j in range(len(W2[i]))]\n",
        "# [np.array(W2[i]).reshape(1,-1) for i in range(len(W2))]\n",
        "#mask = np.isnan(np.array(W2))\n",
        "#np.where(~np.isnan(W2))\n",
        "W2[0]=np.array(W2[0])\n",
        "#np.random.normal(0, 1, n)\n",
        "W2=[np.array(m) for m in W2]\n",
        "for i in range(len(W2)):\n",
        "  W2[i][[np.isnan(np.array(m)) for m in W2][i]]=np.random.normal(0, 1, 1)\n",
        "\n",
        "W2\n",
        "\n",
        "#data[mask] = np.interp(np.flatnonzero(mask), np.flatnonzero(~mask), data[~mask])"
      ],
      "execution_count": null,
      "outputs": [
        {
          "output_type": "execute_result",
          "data": {
            "text/plain": [
              "[array([[  5.17962104,  55.32601734],\n",
              "        [  7.12644327,   0.40215257],\n",
              "        [ -4.18731366,  18.18822724],\n",
              "        [ 12.38295856,   3.74009811],\n",
              "        [  1.58058491,   1.58058491],\n",
              "        [ 15.03125264,   5.62789978],\n",
              "        [ -7.38068363, -23.927293  ],\n",
              "        [  3.52038849,  -6.73506455],\n",
              "        [ -3.85261355,  -7.2477493 ],\n",
              "        [ -0.48533834, -11.42604759],\n",
              "        [-31.39707354,  -8.15871285],\n",
              "        [  1.58058491,   1.58058491]]),\n",
              " array([ 4.83440445e+01, -6.78489918e+01,  1.64341689e+01, -6.44509734e+01,\n",
              "        -3.79068927e+01, -6.07105530e+01, -2.70925282e+01, -1.75164434e+01,\n",
              "        -5.20448097e+00, -8.60342158e+00, -2.01139530e+01,  2.31933166e-02])]"
            ]
          },
          "metadata": {
            "tags": []
          },
          "execution_count": 411
        }
      ]
    },
    {
      "cell_type": "code",
      "metadata": {
        "id": "MxRuOCy1jlS8",
        "colab_type": "code",
        "colab": {
          "base_uri": "https://localhost:8080/",
          "height": 170
        },
        "outputId": "08052aa2-c640-4e2d-95f8-bc3715ed9bea"
      },
      "source": [
        "W"
      ],
      "execution_count": null,
      "outputs": [
        {
          "output_type": "execute_result",
          "data": {
            "text/plain": [
              "[array([[ 0.50249191,  1.07612011],\n",
              "        [-0.03024765,  0.05618928],\n",
              "        [ 0.41401701,  0.85937095],\n",
              "        [ 0.47082558,  0.880133  ],\n",
              "        [-1.91532779,  2.75324428],\n",
              "        [ 0.31773293,  0.62363629],\n",
              "        [-0.44047427, -0.17779913]]),\n",
              " array([-0.9774981 , -3.10955673, -2.56058225, -2.35661475,  2.61793388,\n",
              "        -0.31744641, -1.75989496])]"
            ]
          },
          "metadata": {
            "tags": []
          },
          "execution_count": 11
        }
      ]
    },
    {
      "cell_type": "code",
      "metadata": {
        "id": "mZtBYq6GYA-2",
        "colab_type": "code",
        "colab": {
          "base_uri": "https://localhost:8080/",
          "height": 425
        },
        "outputId": "faf24fb6-9f4c-401d-8c05-cb3d97ded245"
      },
      "source": [
        "W= [([[ 5.25690102e+01, -2.99017938e+02],\n",
        "       [-3.93124362e-01,  3.74232614e+00],\n",
        "       [ 3.55535850e-01,  2.98175079e+00],\n",
        "       [-7.33530260e-01, -3.99309186e+01],\n",
        "       [ 1.56215513e+00, -7.55701781e+00],\n",
        "       [ 1.25519994e+00,  6.26572120e+00],\n",
        "       [-3.89350967e+00, -1.14012696e+01],\n",
        "       [-1.92453636e+01, -6.15222912e+00],\n",
        "       [-3.52942322e+00, -1.99839083e+00],\n",
        "       [ 6.49105427e+01, -3.96102811e+02],\n",
        "       [-3.52485643e+01,  1.75726881e+02],\n",
        "       [ 2.90790726e-01, -5.41969682e+00]]), ([ 91.66921954,   9.59869369,   8.40171912,  18.30586395,\n",
        "        12.02739338,  12.74332438, 332.19986084,   9.40837568,\n",
        "        10.48705351,  76.56089432, 271.51414078,  11.13278863])]\n",
        "B= [([ 473.6134765 ,   -8.51873646,   -6.12254349,   78.14056371,\n",
        "         -5.09917034,   -6.18954292,    5.73742657,  -15.66589371,\n",
        "        -10.1384674 ,  631.24745678, -302.34998825,   28.17929415])]\n",
        "I= [([ 3043.62500887,   -40.89621579,   -32.45714999,   427.57099049,\n",
        "          59.66448883,   -61.93622393,   108.46889347,    53.54561206,\n",
        "          10.1558277 ,  4039.48609115, -1809.19515638,    75.29270394]), 561.7910424459094]\n",
        "A= [([1.00000000e+00, 1.73380061e-18, 8.01749805e-15, 1.00000000e+00,\n",
        "       1.00000000e+00, 1.26310576e-27, 1.00000000e+00, 1.00000000e+00,\n",
        "       9.99961152e-01, 1.00000000e+00, 0.00000000e+00, 1.00000000e+00])]\n",
        "X= [[(-0.80356713), (-8.73611222)]]\n",
        "\n",
        "W,B=update2(Wup,Bup, W, B)\n",
        "# Wupx=[]; Bupx=[]\n",
        "# lw=list(range(len(W)))[::-1]\n",
        "#        #lb=list(range(len(W)-1))[::-1]\n",
        "# lb=lw[:len(lw)-1]\n",
        "# for i in lw:\n",
        "#   Wupx.append(backward2(W,A,I,X, y, eta,k=i)[0])\n",
        "# for i in lb:\n",
        "#   Bupx.append(backward2(W,A,I,X, y, eta,k=i)[1])        \n",
        "\n",
        "# [np.array(W[i]) for i in range(len(W))]\n",
        "# update2(W,B, wx, bx)"
      ],
      "execution_count": null,
      "outputs": [
        {
          "output_type": "error",
          "ename": "NameError",
          "evalue": "ignored",
          "traceback": [
            "\u001b[0;31m---------------------------------------------------------------------------\u001b[0m",
            "\u001b[0;31mTypeError\u001b[0m                                 Traceback (most recent call last)",
            "\u001b[0;32m<ipython-input-305-e1c2b2e40b48>\u001b[0m in \u001b[0;36mupdate2\u001b[0;34m(Wup, Bup, W, B)\u001b[0m\n\u001b[1;32m      5\u001b[0m   \u001b[0;32mtry\u001b[0m\u001b[0;34m:\u001b[0m\u001b[0;34m\u001b[0m\u001b[0;34m\u001b[0m\u001b[0m\n\u001b[0;32m----> 6\u001b[0;31m     \u001b[0mW\u001b[0m\u001b[0;34m=\u001b[0m\u001b[0;34m[\u001b[0m\u001b[0mW\u001b[0m\u001b[0;34m[\u001b[0m\u001b[0mi\u001b[0m\u001b[0;34m]\u001b[0m\u001b[0;34m-\u001b[0m\u001b[0mWup\u001b[0m\u001b[0;34m[\u001b[0m\u001b[0mi\u001b[0m\u001b[0;34m]\u001b[0m \u001b[0;32mfor\u001b[0m \u001b[0mi\u001b[0m \u001b[0;32min\u001b[0m \u001b[0mrange\u001b[0m\u001b[0;34m(\u001b[0m\u001b[0mlen\u001b[0m\u001b[0;34m(\u001b[0m\u001b[0mW\u001b[0m\u001b[0;34m)\u001b[0m\u001b[0;34m)\u001b[0m\u001b[0;34m]\u001b[0m\u001b[0;34m\u001b[0m\u001b[0;34m\u001b[0m\u001b[0m\n\u001b[0m\u001b[1;32m      7\u001b[0m     \u001b[0mB\u001b[0m\u001b[0;34m=\u001b[0m\u001b[0;34m[\u001b[0m\u001b[0mB\u001b[0m\u001b[0;34m[\u001b[0m\u001b[0mi\u001b[0m\u001b[0;34m]\u001b[0m\u001b[0;34m-\u001b[0m\u001b[0mBup\u001b[0m\u001b[0;34m[\u001b[0m\u001b[0mi\u001b[0m\u001b[0;34m]\u001b[0m \u001b[0;32mfor\u001b[0m \u001b[0mi\u001b[0m \u001b[0;32min\u001b[0m \u001b[0mrange\u001b[0m\u001b[0;34m(\u001b[0m\u001b[0mlen\u001b[0m\u001b[0;34m(\u001b[0m\u001b[0mB\u001b[0m\u001b[0;34m)\u001b[0m\u001b[0;34m)\u001b[0m\u001b[0;34m]\u001b[0m\u001b[0;34m\u001b[0m\u001b[0;34m\u001b[0m\u001b[0m\n",
            "\u001b[0;32m<ipython-input-305-e1c2b2e40b48>\u001b[0m in \u001b[0;36m<listcomp>\u001b[0;34m(.0)\u001b[0m\n\u001b[1;32m      5\u001b[0m   \u001b[0;32mtry\u001b[0m\u001b[0;34m:\u001b[0m\u001b[0;34m\u001b[0m\u001b[0;34m\u001b[0m\u001b[0m\n\u001b[0;32m----> 6\u001b[0;31m     \u001b[0mW\u001b[0m\u001b[0;34m=\u001b[0m\u001b[0;34m[\u001b[0m\u001b[0mW\u001b[0m\u001b[0;34m[\u001b[0m\u001b[0mi\u001b[0m\u001b[0;34m]\u001b[0m\u001b[0;34m-\u001b[0m\u001b[0mWup\u001b[0m\u001b[0;34m[\u001b[0m\u001b[0mi\u001b[0m\u001b[0;34m]\u001b[0m \u001b[0;32mfor\u001b[0m \u001b[0mi\u001b[0m \u001b[0;32min\u001b[0m \u001b[0mrange\u001b[0m\u001b[0;34m(\u001b[0m\u001b[0mlen\u001b[0m\u001b[0;34m(\u001b[0m\u001b[0mW\u001b[0m\u001b[0;34m)\u001b[0m\u001b[0;34m)\u001b[0m\u001b[0;34m]\u001b[0m\u001b[0;34m\u001b[0m\u001b[0;34m\u001b[0m\u001b[0m\n\u001b[0m\u001b[1;32m      7\u001b[0m     \u001b[0mB\u001b[0m\u001b[0;34m=\u001b[0m\u001b[0;34m[\u001b[0m\u001b[0mB\u001b[0m\u001b[0;34m[\u001b[0m\u001b[0mi\u001b[0m\u001b[0;34m]\u001b[0m\u001b[0;34m-\u001b[0m\u001b[0mBup\u001b[0m\u001b[0;34m[\u001b[0m\u001b[0mi\u001b[0m\u001b[0;34m]\u001b[0m \u001b[0;32mfor\u001b[0m \u001b[0mi\u001b[0m \u001b[0;32min\u001b[0m \u001b[0mrange\u001b[0m\u001b[0;34m(\u001b[0m\u001b[0mlen\u001b[0m\u001b[0;34m(\u001b[0m\u001b[0mB\u001b[0m\u001b[0;34m)\u001b[0m\u001b[0;34m)\u001b[0m\u001b[0;34m]\u001b[0m\u001b[0;34m\u001b[0m\u001b[0;34m\u001b[0m\u001b[0m\n",
            "\u001b[0;31mTypeError\u001b[0m: unsupported operand type(s) for -: 'list' and 'list'",
            "\nDuring handling of the above exception, another exception occurred:\n",
            "\u001b[0;31mNameError\u001b[0m                                 Traceback (most recent call last)",
            "\u001b[0;32m<ipython-input-348-be733350bc85>\u001b[0m in \u001b[0;36m<module>\u001b[0;34m()\u001b[0m\n\u001b[1;32m     24\u001b[0m \u001b[0mX\u001b[0m\u001b[0;34m=\u001b[0m \u001b[0;34m[\u001b[0m\u001b[0;34m[\u001b[0m\u001b[0;34m(\u001b[0m\u001b[0;34m-\u001b[0m\u001b[0;36m0.80356713\u001b[0m\u001b[0;34m)\u001b[0m\u001b[0;34m,\u001b[0m \u001b[0;34m(\u001b[0m\u001b[0;34m-\u001b[0m\u001b[0;36m8.73611222\u001b[0m\u001b[0;34m)\u001b[0m\u001b[0;34m]\u001b[0m\u001b[0;34m]\u001b[0m\u001b[0;34m\u001b[0m\u001b[0;34m\u001b[0m\u001b[0m\n\u001b[1;32m     25\u001b[0m \u001b[0;34m\u001b[0m\u001b[0m\n\u001b[0;32m---> 26\u001b[0;31m \u001b[0mW\u001b[0m\u001b[0;34m,\u001b[0m\u001b[0mB\u001b[0m\u001b[0;34m=\u001b[0m\u001b[0mupdate2\u001b[0m\u001b[0;34m(\u001b[0m\u001b[0mWup\u001b[0m\u001b[0;34m,\u001b[0m\u001b[0mBup\u001b[0m\u001b[0;34m,\u001b[0m \u001b[0mW\u001b[0m\u001b[0;34m,\u001b[0m \u001b[0mB\u001b[0m\u001b[0;34m)\u001b[0m\u001b[0;34m\u001b[0m\u001b[0;34m\u001b[0m\u001b[0m\n\u001b[0m\u001b[1;32m     27\u001b[0m \u001b[0;31m# Wupx=[]; Bupx=[]\u001b[0m\u001b[0;34m\u001b[0m\u001b[0;34m\u001b[0m\u001b[0;34m\u001b[0m\u001b[0m\n\u001b[1;32m     28\u001b[0m \u001b[0;31m# lw=list(range(len(W)))[::-1]\u001b[0m\u001b[0;34m\u001b[0m\u001b[0;34m\u001b[0m\u001b[0;34m\u001b[0m\u001b[0m\n",
            "\u001b[0;32m<ipython-input-305-e1c2b2e40b48>\u001b[0m in \u001b[0;36mupdate2\u001b[0;34m(Wup, Bup, W, B)\u001b[0m\n\u001b[1;32m     10\u001b[0m     \u001b[0;31m#B=B-Bup #eta*dE_dO2*dO2_dO1*dO1_dB\u001b[0m\u001b[0;34m\u001b[0m\u001b[0;34m\u001b[0m\u001b[0;34m\u001b[0m\u001b[0m\n\u001b[1;32m     11\u001b[0m   \u001b[0;32mexcept\u001b[0m\u001b[0;34m:\u001b[0m\u001b[0;34m\u001b[0m\u001b[0;34m\u001b[0m\u001b[0m\n\u001b[0;32m---> 12\u001b[0;31m     \u001b[0mW\u001b[0m\u001b[0;34m=\u001b[0m\u001b[0mWC\u001b[0m\u001b[0;34m;\u001b[0m \u001b[0mB\u001b[0m\u001b[0;34m=\u001b[0m\u001b[0mBC\u001b[0m\u001b[0;34m\u001b[0m\u001b[0;34m\u001b[0m\u001b[0m\n\u001b[0m\u001b[1;32m     13\u001b[0m \u001b[0;34m\u001b[0m\u001b[0m\n\u001b[1;32m     14\u001b[0m \u001b[0;34m\u001b[0m\u001b[0m\n",
            "\u001b[0;31mNameError\u001b[0m: name 'BC' is not defined"
          ]
        }
      ]
    },
    {
      "cell_type": "code",
      "metadata": {
        "id": "z3NxvqvZeuGO",
        "colab_type": "code",
        "colab": {
          "base_uri": "https://localhost:8080/",
          "height": 34
        },
        "outputId": "bfb8ce1b-380a-40a2-bdeb-ea8f0550b408"
      },
      "source": [
        "a=sigmoid(-10000e-19)\n",
        "a"
      ],
      "execution_count": null,
      "outputs": [
        {
          "output_type": "execute_result",
          "data": {
            "text/plain": [
              "0.4999999999999998"
            ]
          },
          "metadata": {
            "tags": []
          },
          "execution_count": 344
        }
      ]
    },
    {
      "cell_type": "code",
      "metadata": {
        "id": "DquyoXh2Y94v",
        "colab_type": "code",
        "colab": {}
      },
      "source": [
        "W= [([[  3.50379596,   0.1833965 ],\n",
        "       [  0.90225437,  -2.97565262],\n",
        "       [-29.07891312,  99.36081975],\n",
        "       [  6.12780972,   9.62438371],\n",
        "       [  0.48351167,  -2.94907987],\n",
        "       [  0.19648614,  -3.01878483],\n",
        "       [  1.92964851,  -1.49532292],\n",
        "       [-10.30542027,  -5.50825516],\n",
        "       [ -4.6026333 ,  -0.15679252],\n",
        "       [  2.73696337,  -3.41366433],\n",
        "       [ -0.60866238,  -1.08640186],\n",
        "       [  0.91071083,  -1.62541488]]), ([-7.82090756e+00, -7.36352318e+00,  2.47974678e+02, -1.81165912e+01,\n",
        "       -8.94466258e+00, -1.13621301e+01, -7.86586793e+00, -8.83142682e+00,\n",
        "       -5.22907589e+00,  1.62162621e-01, -2.01987375e+01, -8.21909915e+00])]"
      ],
      "execution_count": null,
      "outputs": []
    },
    {
      "cell_type": "code",
      "metadata": {
        "id": "W8jHV-CaYkEU",
        "colab_type": "code",
        "colab": {
          "base_uri": "https://localhost:8080/",
          "height": 258
        },
        "outputId": "0db6ffc1-3a05-4c12-e32b-ae44db5f8e96"
      },
      "source": [
        "#A=np.array(A); B=np.array(B); W=np.array(W); I=np.array(I); X=np.array(X)\n",
        "i=1\n",
        "backward2(W,A,I,X, y, eta,k=i)[0]\n",
        "# np.array(W)\n",
        "# W\n",
        "# np.array(generateWandB(N)[0])"
      ],
      "execution_count": null,
      "outputs": [
        {
          "output_type": "stream",
          "text": [
            "[-16.21569346, -5.22802748, -115.88039638, -51.82676648, -4.36298027, -3.87752154, -9.36454643, 15.97468127, -11.6125263, -7.32924219, -8.72890355, -5.11458211]\n"
          ],
          "name": "stdout"
        },
        {
          "output_type": "execute_result",
          "data": {
            "text/plain": [
              "array([[ 2.33934947e-07,  4.04624960e-07],\n",
              "       [ 1.28872321e-02,  2.22903668e-02],\n",
              "       [-3.85846750e-49, -6.67378808e-49],\n",
              "       [ 1.85447938e-22,  3.20759533e-22],\n",
              "       [ 3.66415376e-02,  6.33769383e-02],\n",
              "       [ 7.44560133e-02,  1.28782646e-01],\n",
              "       [ 2.22292898e-04,  3.84488321e-04],\n",
              "       [ 3.36154608e-07,  5.81428926e-07],\n",
              "       [ 1.56093641e-05,  2.69986951e-05],\n",
              "       [-3.50393360e-05, -6.06056945e-05],\n",
              "       [ 1.07768848e-03,  1.86402102e-03],\n",
              "       [ 1.60920125e-02,  2.78335068e-02]])"
            ]
          },
          "metadata": {
            "tags": []
          },
          "execution_count": 322
        }
      ]
    },
    {
      "cell_type": "code",
      "metadata": {
        "id": "0UMXbVXTdybg",
        "colab_type": "code",
        "colab": {
          "base_uri": "https://localhost:8080/",
          "height": 68
        },
        "outputId": "fe85edf0-3a3a-48d1-e1b4-8ac772996d24"
      },
      "source": [
        "# I[0]\n",
        "np.exp(-np.array(I[0]))/(1+np.exp(-np.array(I[0])))**2\n",
        "#np.exp(-np.array([1,2]))"
      ],
      "execution_count": null,
      "outputs": [
        {
          "output_type": "execute_result",
          "data": {
            "text/plain": [
              "array([9.07013459e-08, 5.30700836e-03, 4.71827545e-51, 3.10399707e-23,\n",
              "       1.24218279e-02, 1.98708205e-02, 8.56948488e-05, 1.15420772e-07,\n",
              "       9.05182282e-06, 6.55210565e-04, 1.61787437e-04, 5.93692992e-03])"
            ]
          },
          "metadata": {
            "tags": []
          },
          "execution_count": 318
        }
      ]
    },
    {
      "cell_type": "code",
      "metadata": {
        "id": "0vxTjXRvYvs7",
        "colab_type": "code",
        "colab": {
          "base_uri": "https://localhost:8080/",
          "height": 374
        },
        "outputId": "686aa01c-8bdb-4f14-b8a3-005378a255c3"
      },
      "source": [
        "Wupx=[]; Bupx=[]\n",
        "lw=list(range(len(W)))[::-1]\n",
        "       #lb=list(range(len(W)-1))[::-1]\n",
        "lb=lw[:len(lw)-1]\n",
        "for i in lw:\n",
        "  Wupx.append(backward2(W,A,I,X, y, eta,k=i)[0])\n",
        "for i in lb:\n",
        "  Bupx.append(backward2(W,A,I,X, y, eta,k=i)[1])   "
      ],
      "execution_count": null,
      "outputs": [
        {
          "output_type": "error",
          "ename": "TypeError",
          "evalue": "ignored",
          "traceback": [
            "\u001b[0;31m---------------------------------------------------------------------------\u001b[0m",
            "\u001b[0;31mTypeError\u001b[0m                                 Traceback (most recent call last)",
            "\u001b[0;32m<ipython-input-262-7e33634692ef>\u001b[0m in \u001b[0;36m<module>\u001b[0;34m()\u001b[0m\n\u001b[1;32m      4\u001b[0m \u001b[0mlb\u001b[0m\u001b[0;34m=\u001b[0m\u001b[0mlw\u001b[0m\u001b[0;34m[\u001b[0m\u001b[0;34m:\u001b[0m\u001b[0mlen\u001b[0m\u001b[0;34m(\u001b[0m\u001b[0mlw\u001b[0m\u001b[0;34m)\u001b[0m\u001b[0;34m-\u001b[0m\u001b[0;36m1\u001b[0m\u001b[0;34m]\u001b[0m\u001b[0;34m\u001b[0m\u001b[0;34m\u001b[0m\u001b[0m\n\u001b[1;32m      5\u001b[0m \u001b[0;32mfor\u001b[0m \u001b[0mi\u001b[0m \u001b[0;32min\u001b[0m \u001b[0mlw\u001b[0m\u001b[0;34m:\u001b[0m\u001b[0;34m\u001b[0m\u001b[0;34m\u001b[0m\u001b[0m\n\u001b[0;32m----> 6\u001b[0;31m   \u001b[0mWupx\u001b[0m\u001b[0;34m.\u001b[0m\u001b[0mappend\u001b[0m\u001b[0;34m(\u001b[0m\u001b[0mbackward2\u001b[0m\u001b[0;34m(\u001b[0m\u001b[0mW\u001b[0m\u001b[0;34m,\u001b[0m\u001b[0mA\u001b[0m\u001b[0;34m,\u001b[0m\u001b[0mI\u001b[0m\u001b[0;34m,\u001b[0m\u001b[0mX\u001b[0m\u001b[0;34m,\u001b[0m \u001b[0my\u001b[0m\u001b[0;34m,\u001b[0m \u001b[0meta\u001b[0m\u001b[0;34m,\u001b[0m\u001b[0mk\u001b[0m\u001b[0;34m=\u001b[0m\u001b[0mi\u001b[0m\u001b[0;34m)\u001b[0m\u001b[0;34m[\u001b[0m\u001b[0;36m0\u001b[0m\u001b[0;34m]\u001b[0m\u001b[0;34m)\u001b[0m\u001b[0;34m\u001b[0m\u001b[0;34m\u001b[0m\u001b[0m\n\u001b[0m\u001b[1;32m      7\u001b[0m \u001b[0;32mfor\u001b[0m \u001b[0mi\u001b[0m \u001b[0;32min\u001b[0m \u001b[0mlb\u001b[0m\u001b[0;34m:\u001b[0m\u001b[0;34m\u001b[0m\u001b[0;34m\u001b[0m\u001b[0m\n\u001b[1;32m      8\u001b[0m   \u001b[0mBupx\u001b[0m\u001b[0;34m.\u001b[0m\u001b[0mappend\u001b[0m\u001b[0;34m(\u001b[0m\u001b[0mbackward2\u001b[0m\u001b[0;34m(\u001b[0m\u001b[0mW\u001b[0m\u001b[0;34m,\u001b[0m\u001b[0mA\u001b[0m\u001b[0;34m,\u001b[0m\u001b[0mI\u001b[0m\u001b[0;34m,\u001b[0m\u001b[0mX\u001b[0m\u001b[0;34m,\u001b[0m \u001b[0my\u001b[0m\u001b[0;34m,\u001b[0m \u001b[0meta\u001b[0m\u001b[0;34m,\u001b[0m\u001b[0mk\u001b[0m\u001b[0;34m=\u001b[0m\u001b[0mi\u001b[0m\u001b[0;34m)\u001b[0m\u001b[0;34m[\u001b[0m\u001b[0;36m1\u001b[0m\u001b[0;34m]\u001b[0m\u001b[0;34m)\u001b[0m\u001b[0;34m\u001b[0m\u001b[0;34m\u001b[0m\u001b[0m\n",
            "\u001b[0;32m<ipython-input-83-0c808d04d2db>\u001b[0m in \u001b[0;36mbackward2\u001b[0;34m(W, A, I, X, y, eta, k)\u001b[0m\n\u001b[1;32m     17\u001b[0m       \u001b[0mderives\u001b[0m\u001b[0;34m=\u001b[0m\u001b[0mnp\u001b[0m\u001b[0;34m.\u001b[0m\u001b[0msum\u001b[0m\u001b[0;34m(\u001b[0m\u001b[0mderives\u001b[0m\u001b[0;34m,\u001b[0m \u001b[0maxis\u001b[0m\u001b[0;34m=\u001b[0m\u001b[0;36m0\u001b[0m\u001b[0;34m)\u001b[0m\u001b[0;34m\u001b[0m\u001b[0;34m\u001b[0m\u001b[0m\n\u001b[1;32m     18\u001b[0m     \u001b[0;31m#derives.append(dA_dI(I[n-i-1]) ) #dA_(n-1)/dI_(n-1)\u001b[0m\u001b[0;34m\u001b[0m\u001b[0;34m\u001b[0m\u001b[0;34m\u001b[0m\u001b[0m\n\u001b[0;32m---> 19\u001b[0;31m     \u001b[0mderives\u001b[0m\u001b[0;34m*=\u001b[0m\u001b[0mdA_dI\u001b[0m\u001b[0;34m(\u001b[0m\u001b[0mI\u001b[0m\u001b[0;34m[\u001b[0m\u001b[0mn\u001b[0m\u001b[0;34m-\u001b[0m\u001b[0mi\u001b[0m\u001b[0;34m-\u001b[0m\u001b[0;36m1\u001b[0m\u001b[0;34m]\u001b[0m\u001b[0;34m)\u001b[0m  \u001b[0;31m#dA_(n-1)/dI_(n-1)\u001b[0m\u001b[0;34m\u001b[0m\u001b[0;34m\u001b[0m\u001b[0m\n\u001b[0m\u001b[1;32m     20\u001b[0m   \u001b[0;31m#derives.append(A[n-k-1]) #dI_(k)/dW_(k)\u001b[0m\u001b[0;34m\u001b[0m\u001b[0;34m\u001b[0m\u001b[0;34m\u001b[0m\u001b[0m\n\u001b[1;32m     21\u001b[0m   \u001b[0;32mif\u001b[0m \u001b[0mk\u001b[0m\u001b[0;34m<\u001b[0m\u001b[0mn\u001b[0m\u001b[0;34m:\u001b[0m\u001b[0;34m\u001b[0m\u001b[0;34m\u001b[0m\u001b[0m\n",
            "\u001b[0;32m<ipython-input-11-faa39f910033>\u001b[0m in \u001b[0;36mdA_dI\u001b[0;34m(I)\u001b[0m\n\u001b[1;32m      1\u001b[0m \u001b[0;32mdef\u001b[0m \u001b[0mdA_dI\u001b[0m\u001b[0;34m(\u001b[0m\u001b[0mI\u001b[0m\u001b[0;34m)\u001b[0m\u001b[0;34m:\u001b[0m\u001b[0;34m\u001b[0m\u001b[0;34m\u001b[0m\u001b[0m\n\u001b[0;32m----> 2\u001b[0;31m   \u001b[0mda_di\u001b[0m\u001b[0;34m=\u001b[0m\u001b[0mnp\u001b[0m\u001b[0;34m.\u001b[0m\u001b[0mexp\u001b[0m\u001b[0;34m(\u001b[0m\u001b[0;34m-\u001b[0m\u001b[0mI\u001b[0m\u001b[0;34m)\u001b[0m\u001b[0;34m/\u001b[0m\u001b[0;34m(\u001b[0m\u001b[0;36m1\u001b[0m\u001b[0;34m+\u001b[0m\u001b[0mnp\u001b[0m\u001b[0;34m.\u001b[0m\u001b[0mexp\u001b[0m\u001b[0;34m(\u001b[0m\u001b[0;34m-\u001b[0m\u001b[0mI\u001b[0m\u001b[0;34m)\u001b[0m\u001b[0;34m)\u001b[0m\u001b[0;34m**\u001b[0m\u001b[0;36m2\u001b[0m\u001b[0;34m\u001b[0m\u001b[0;34m\u001b[0m\u001b[0m\n\u001b[0m\u001b[1;32m      3\u001b[0m   \u001b[0;32mreturn\u001b[0m \u001b[0mda_di\u001b[0m\u001b[0;34m\u001b[0m\u001b[0;34m\u001b[0m\u001b[0m\n\u001b[1;32m      4\u001b[0m \u001b[0;34m\u001b[0m\u001b[0m\n\u001b[1;32m      5\u001b[0m \u001b[0;34m\u001b[0m\u001b[0m\n",
            "\u001b[0;31mTypeError\u001b[0m: bad operand type for unary -: 'list'"
          ]
        }
      ]
    },
    {
      "cell_type": "code",
      "metadata": {
        "id": "zIYShrwC1YZG",
        "colab_type": "code",
        "colab": {}
      },
      "source": [
        "W= [([[  7.31688296,   2.40826151],\n",
        "       [  8.4270951 , -40.93640126],\n",
        "       [203.37108812, -84.36465254],\n",
        "       [  5.82945695,   4.67045255],\n",
        "       [  3.91133609,   4.79442617],\n",
        "       [ 31.38016353,  24.10641624],\n",
        "       [-36.21745172, -16.16372546],\n",
        "       [  4.63005582,   8.66471389],\n",
        "       [-24.4102104 , -30.38972844],\n",
        "       [  9.43486724,  34.34724982],\n",
        "       [ 10.62440627,  -1.76477218],\n",
        "       [ 11.08353351,   0.45419425]]), ([ 29.57344436,  12.33983818,  15.02089068,  16.60625931,\n",
        "         5.37154854,  23.37301086, -13.08608978,  15.07938593,\n",
        "       -28.76867722,  15.97697532,  40.00060001,  15.80259817])]\n",
        "B= [([-24.64447976,  -6.69794373, -53.02875142, -20.02897599,\n",
        "        -8.915959  , -59.53868934,  -8.41431738, -16.35984854,\n",
        "         9.25755971, -38.91102907, -24.86494388, -31.87005734])]\n",
        "Wupx=[]; Bupx=[]\n",
        "lw=list(range(len(W)))[::-1]\n",
        "       #lb=list(range(len(W)-1))[::-1]\n",
        "lb=lw[:len(lw)-1]\n",
        "for i in lw:\n",
        "  Wupx.append(backward2(W,A,I,X, y, eta,k=i)[0])\n",
        "for i in lb:\n",
        "  Bupx.append(backward2(W,A,I,X, y, eta,k=i)[1])        "
      ],
      "execution_count": null,
      "outputs": []
    },
    {
      "cell_type": "code",
      "metadata": {
        "id": "RQIBh2wmXiKx",
        "colab_type": "code",
        "colab": {
          "base_uri": "https://localhost:8080/",
          "height": 34
        },
        "outputId": "c04df2a5-808d-4b7d-d344-2acebd0822dc"
      },
      "source": [
        "A"
      ],
      "execution_count": null,
      "outputs": [
        {
          "output_type": "execute_result",
          "data": {
            "text/plain": [
              "[array([nan, nan, nan, nan, nan, nan, nan, nan, nan, nan, nan, nan])]"
            ]
          },
          "metadata": {
            "tags": []
          },
          "execution_count": 254
        }
      ]
    },
    {
      "cell_type": "code",
      "metadata": {
        "id": "tA98YAfNd44W",
        "colab_type": "code",
        "colab": {
          "base_uri": "https://localhost:8080/",
          "height": 34
        },
        "outputId": "1868c9e9-9a2c-4658-b4b9-b89817c615dc"
      },
      "source": [
        "# print(-1*((y*(1/I[-1])+(1-y)*(1/(1-I[-1])))) )\n",
        "# dE_dO2\n",
        "# print(Wup)\n",
        "# # w1up\n",
        "\n",
        "# w2up\n",
        "n\n",
        "#[np.dot(W1[i],X[0])+B[i] for i in range(n)]\n",
        "# np.array(Wup).shape\n",
        "# np.array(w2up).shape\n",
        "# w2up\n",
        "# sumMat(B)\n",
        "# Wup\n",
        "# w2up\n",
        "# Bup\n",
        "# lb[0]+1\n",
        "# lw=list(range(len(W)))[::-1]\n",
        "# lb=list(range(len(W)-1))[::-1]\n",
        "# lw[:len(lw)-1]\n",
        "# B\n",
        "# backward2(W,A,I,X, y, eta,k=1)\n",
        "# print(\"Wup: \", Wup)\n",
        "# print(\"W: \", W)\n",
        "# [B[i]-Bup[i] for i in range(len(B))]\n",
        "# Wx,Bx=update2(Wup,Bup, W, B)\n",
        "# print(\"Bx: \", Bx)\n",
        "# print(\"B: \", B)\n",
        "#forward2(Wx,Bx,X)\n",
        "#Wx=copy.deepcopy(W); Bx=copy.deepcopy(B)\n",
        "#[np.dot(W1[i],X[0])+Bx[i] for i in range(n)]\n",
        "lw"
      ],
      "execution_count": null,
      "outputs": [
        {
          "output_type": "execute_result",
          "data": {
            "text/plain": [
              "[1, 0]"
            ]
          },
          "metadata": {
            "tags": []
          },
          "execution_count": 244
        }
      ]
    },
    {
      "cell_type": "code",
      "metadata": {
        "id": "E-PF0ZW_oGzc",
        "colab_type": "code",
        "colab": {}
      },
      "source": [
        "\n",
        "def update2(Wup,Bup, W, B):\n",
        "\n",
        "  WC=copy.deepcopy(W); BC=copy.deepcopy(B)\n",
        "  try:\n",
        "    W=[W[i]-Wup[i] for i in range(len(W))]\n",
        "    B=[B[i]-Bup[i] for i in range(len(B))]\n",
        "    #W=W-Wup #eta*np.array([dE_dO2*dO2_dO1,dE_dO2*dO2_dO1]).T*dO1_dW1\n",
        "    \n",
        "    #B=B-Bup #eta*dE_dO2*dO2_dO1*dO1_dB\n",
        "  except:\n",
        "    W=WC; B=BC\n",
        "\n",
        "\n",
        "  # W=[np.array(W[i]) for i in range(len(W))]\n",
        "  # B=[np.array(B[i]) for i in range(len(B))]\n",
        "  return (W,B)"
      ],
      "execution_count": 5,
      "outputs": []
    },
    {
      "cell_type": "code",
      "metadata": {
        "id": "01SAFYvvPlBP",
        "colab_type": "code",
        "colab": {}
      },
      "source": [
        "def dA_dI(I):\n",
        "  da_di=np.exp(-np.array(I))/(1+np.exp(-np.array(I)))**2\n",
        "  return da_di\n",
        "\n",
        "  "
      ],
      "execution_count": 6,
      "outputs": []
    },
    {
      "cell_type": "code",
      "metadata": {
        "id": "0sQfZWy5zN9o",
        "colab_type": "code",
        "colab": {
          "base_uri": "https://localhost:8080/",
          "height": 163
        },
        "outputId": "5b388fe6-3f45-43f4-d650-452bdf6cff8c"
      },
      "source": [
        "backward2(B,A,I,X, y, eta,k=1)"
      ],
      "execution_count": null,
      "outputs": [
        {
          "output_type": "error",
          "ename": "NameError",
          "evalue": "ignored",
          "traceback": [
            "\u001b[0;31m---------------------------------------------------------------------------\u001b[0m",
            "\u001b[0;31mNameError\u001b[0m                                 Traceback (most recent call last)",
            "\u001b[0;32m<ipython-input-12-626885f57b79>\u001b[0m in \u001b[0;36m<module>\u001b[0;34m()\u001b[0m\n\u001b[0;32m----> 1\u001b[0;31m \u001b[0mbackward2\u001b[0m\u001b[0;34m(\u001b[0m\u001b[0mB\u001b[0m\u001b[0;34m,\u001b[0m\u001b[0mA\u001b[0m\u001b[0;34m,\u001b[0m\u001b[0mI\u001b[0m\u001b[0;34m,\u001b[0m\u001b[0mX\u001b[0m\u001b[0;34m,\u001b[0m \u001b[0my\u001b[0m\u001b[0;34m,\u001b[0m \u001b[0meta\u001b[0m\u001b[0;34m,\u001b[0m\u001b[0mk\u001b[0m\u001b[0;34m=\u001b[0m\u001b[0;36m1\u001b[0m\u001b[0;34m)\u001b[0m\u001b[0;34m\u001b[0m\u001b[0;34m\u001b[0m\u001b[0m\n\u001b[0m",
            "\u001b[0;31mNameError\u001b[0m: name 'A' is not defined"
          ]
        }
      ]
    },
    {
      "cell_type": "code",
      "metadata": {
        "id": "vaSC1bWxT1ko",
        "colab_type": "code",
        "colab": {}
      },
      "source": [
        "def backward2(W,A,I,X, y, eta,k=1):\n",
        "#  k=1\n",
        "  \n",
        "  #dE_dIn=-1*((y*(1/I[-1])+(1-y)*(1/(1-I[-1])))) \n",
        "  #dE_dAn=-1*((y*(np.log(I[-1]))+(1-y)*((1-np.log(I[-1]))))) \n",
        "  #si=sigmoid\n",
        "\n",
        "  #---\n",
        "  #print(\"I[-]=\",I[-1])\n",
        "  An=A[-1]\n",
        "  dE_dAn  =-1*((y*(np.log(1/An))+(1-y)*((1-np.log(1/(1-An)))))) \n",
        "  #dE_dAn  =-1*((y*(np.log(An))+(1-y)*((np.log((1-An)))))) \n",
        "  #dE_dAn  =-1*((y*((An))+(1-y)*((1-((An)))))) \n",
        "  #dE_dAn  =-1*((y*(np.log(1/An))+(y-1)*((np.log(1/(1-An)))))) \n",
        "  #dE_dAn  =-1*((y*(np.abs(np.log(An)))+(y-1)*(np.abs(np.log((1-An)))))) \n",
        "\n",
        "\n",
        "  #dE_dAn=y*(np.log(An-1))+(1-y)*np.log(An)\n",
        "  \n",
        "  dAn_dIn=sigmoid(I[-1])*(1-sigmoid(I[-1]))\n",
        "\n",
        "  #---\n",
        "\n",
        "\n",
        "  #print(dE_dIn)\n",
        "  n=len(N)-1\n",
        "  #derives=[]\n",
        "  derives=eta*dE_dAn*dAn_dIn\n",
        "  for i in range(k): #k<n\n",
        "    #print(i)\n",
        "    #derives.append(W[n-i]) #dI_(n)/dA_(n-1)\n",
        "    #try:\n",
        "    if i==0:\n",
        "      derives*=W[n-i] #dI_(n)/dA_(n-1)\n",
        "    #except:\n",
        "    else:\n",
        "      # print(\"derives: \",derives)\n",
        "      # print(\" W[n-i].T: \", W[n-i].T)\n",
        "      derives=np.array([derives*x for x in W[n-i].T]).T\n",
        "      derives=np.sum(derives, axis=0)\n",
        "    #derives.append(dA_dI(I[n-i-1]) ) #dA_(n-1)/dI_(n-1)\n",
        "    #print(I[n-i-1])\n",
        "    \n",
        "    #---sigmoid\n",
        "    #derives*=dA_dI(I[n-i-1])  #dA_(n-1)/dI_(n-1)\n",
        "    #----\n",
        "    #----relu sep 9 20\n",
        "    # print(\"nnnnnnnn:\",n)\n",
        "    # print(\"iiiiiiiiii:\",i)\n",
        "    #print(\"da_di########################:\",np.array([0 if e==0 else 1 for e in A[n-i-1] ]))\n",
        "    #derives*=np.array([0 if e==0 else 1 for e in A[n-i-1] ])\n",
        "\n",
        "    #leaky\n",
        "    derives*=np.array([0.01 if e<0 else 1 for e in A[n-i-1] ])\n",
        "    #-----\n",
        "\n",
        "  #derives.append(A[n-k-1]) #dI_(k)/dW_(k)\n",
        "  if k<n:\n",
        "    \n",
        "    derivesW=np.array([derives*x for x in A[n-k-1] ]).T#dI_(k)/dW_(k)\n",
        "\n",
        "    #derivesW=derives*A[n-k-1] #dI_(k)/dW_(k)\n",
        "    #print(\"derivesW:\",derivesW)\n",
        "  if k==n:\n",
        "    derivesW=np.array([derives*x for x in X[0]]).T#dI_(k)/dW_(k)\n",
        "  \n",
        "  # derivesW=[np.array(derivesW[i]) for i in range(len(derivesW))]\n",
        "  # derives=[np.array(derives[i]) for i in range(len(derives))]\n",
        "  #return (eta*dE_dIn*derivesW, eta*dE_dIn*derives, dE_dIn)\n",
        "  #return (eta*dE_dAn*dAn_dIn*derivesW, eta*dE_dAn*dAn_dIn*derives, dE_dAn)\n",
        "  return (derivesW, derives, dE_dAn)\n",
        "\n",
        "#   #print(derivesW, derives)\n",
        "#   #W[4]\n",
        "#   W[n-k]\n",
        "#   #W[0]\n",
        "# backward2(W,A,I,X)"
      ],
      "execution_count": 16,
      "outputs": []
    },
    {
      "cell_type": "code",
      "metadata": {
        "id": "YM9GmmpLUkxh",
        "colab_type": "code",
        "colab": {
          "base_uri": "https://localhost:8080/",
          "height": 85
        },
        "outputId": "6186234a-0ca4-4a34-d959-6f765b50873a"
      },
      "source": [
        "  k=0\n",
        "  n=len(N)-1\n",
        "  derives=[]\n",
        "  derives=1\n",
        "  for i in range(k): #k<n\n",
        "    #print(i)\n",
        "    #derives.append(W[n-i]) #dI_(n)/dA_(n-1)\n",
        "    #try:\n",
        "    if i==0:\n",
        "      derives*=W[n-i] #dI_(n)/dA_(n-1)\n",
        "    #except:\n",
        "    else:\n",
        "      derives=np.array([derives*x for x in W[n-i].T]).T\n",
        "      derives=np.sum(derives, axis=0)\n",
        "    #derives.append(dA_dI(I[n-i-1]) ) #dA_(n-1)/dI_(n-1)\n",
        "    derives*=dA_dI(I[n-i-1])  #dA_(n-1)/dI_(n-1)\n",
        "  #derives.append(A[n-k-1]) #dI_(k)/dW_(k)\n",
        "  print(derives)\n",
        "  if k<n:\n",
        "    derives=np.array([derives*x for x in A[n-k-1] ]).T#dI_(k)/dW_(k)\n",
        "  if k==n:\n",
        "    derives=np.array([derives*x for x in X[0]]).T#dI_(k)/dW_(k)\n",
        "\n",
        "  #print(derives.shape)\n",
        "  #W[4]\n",
        "  #W[n-k].shape\n",
        "  #W[0]\n",
        "#derives*2\n",
        "derives"
      ],
      "execution_count": null,
      "outputs": [
        {
          "output_type": "stream",
          "text": [
            "1\n"
          ],
          "name": "stdout"
        },
        {
          "output_type": "execute_result",
          "data": {
            "text/plain": [
              "array([9.07013540e-08, 5.33547566e-03, 4.71827543e-51, 3.10399706e-23,\n",
              "       1.25800864e-02, 2.02821876e-02, 8.57021937e-05, 9.99999885e-01,\n",
              "       9.05190471e-06, 6.55640430e-04, 1.61813620e-04, 5.97260189e-03])"
            ]
          },
          "metadata": {
            "tags": []
          },
          "execution_count": 309
        }
      ]
    },
    {
      "cell_type": "code",
      "metadata": {
        "id": "rs38luAlHQ_2",
        "colab_type": "code",
        "colab": {
          "base_uri": "https://localhost:8080/",
          "height": 272
        },
        "outputId": "593fc75a-e936-47a0-80ea-e4e33aa39ec3"
      },
      "source": [
        "#der1=[]#copy.deepcopy(derives)\n",
        "# der1.append(derives)\n",
        "# der1\n",
        "#der2=[]\n",
        "sumMat(der2)"
      ],
      "execution_count": null,
      "outputs": [
        {
          "output_type": "execute_result",
          "data": {
            "text/plain": [
              "[array([[ 0.00897384,  0.00897384],\n",
              "        [ 0.1223951 ,  0.1223951 ],\n",
              "        [ 0.36896472,  0.36896472],\n",
              "        [-0.01582186, -0.01582186],\n",
              "        [-0.13596978, -0.13596978],\n",
              "        [-0.36224705, -0.36224705],\n",
              "        [-0.32948113, -0.32948113],\n",
              "        [ 0.58005722,  0.58005722],\n",
              "        [-0.61223003, -0.61223003],\n",
              "        [-0.97656702, -0.97656702],\n",
              "        [ 0.19492806,  0.19492806],\n",
              "        [ 0.69451828,  0.69451828]]),\n",
              " array([0.30693136, 1.73339193, 0.31254957, 1.89510818, 0.3088725 ,\n",
              "        0.60977134, 0.50442423, 0.89560904, 0.96273349, 0.80657637,\n",
              "        1.33042519, 0.80745325])]"
            ]
          },
          "metadata": {
            "tags": []
          },
          "execution_count": 239
        }
      ]
    },
    {
      "cell_type": "code",
      "metadata": {
        "id": "NbrxkJov30hJ",
        "colab_type": "code",
        "colab": {
          "base_uri": "https://localhost:8080/",
          "height": 197
        },
        "outputId": "9ad94770-1227-4211-d56b-a9968989e740"
      },
      "source": [
        "def backward2_(W,A,I,X, y, eta, k=1):\n",
        "#  k=1\n",
        "  dE_dIn=-1*((y*(1/I[-1])+(1-y)*(1/(1-I[-1])))) \n",
        "  print(dE_dIn)\n",
        "  n=len(N)-1\n",
        "  derives=[]\n",
        "  derives=1\n",
        "  for i in range(k): #k<n\n",
        "    #print(i)\n",
        "    #derives.append(W[n-i]) #dI_(n)/dA_(n-1)\n",
        "    #try:\n",
        "    if i==0:\n",
        "      derives*=W[n-i] #dI_(n)/dA_(n-1)\n",
        "    #except:\n",
        "    else:\n",
        "      derives=np.array([derives*x for x in W[n-i].T]).T\n",
        "      derives=np.sum(derives, axis=0)\n",
        "    #derives.append(dA_dI(I[n-i-1]) ) #dA_(n-1)/dI_(n-1)\n",
        "    derives*=dA_dI(I[n-i-1])  #dA_(n-1)/dI_(n-1)\n",
        "  #derives.append(A[n-k-1]) #dI_(k)/dW_(k)\n",
        "  if k<n:\n",
        "    derives=eta*dE_dIn*np.array([derives*x for x in A[n-k-1] ]).T#dI_(k)/dW_(k)\n",
        "  if k==n:\n",
        "    derives=eta*dE_dIn*np.array([derives*x for x in X[0]]).T#dI_(k)/dW_(k)\n",
        "  \n",
        "  return (derives, dE_dIn)\n",
        "\n",
        "#   #print(derivesW, derives)\n",
        "#   #W[4]\n",
        "#   W[n-k]\n",
        "#   #W[0]\n",
        "# backward2(W,A,I,X)\n",
        "n"
      ],
      "execution_count": null,
      "outputs": [
        {
          "output_type": "error",
          "ename": "NameError",
          "evalue": "ignored",
          "traceback": [
            "\u001b[0;31m---------------------------------------------------------------------------\u001b[0m",
            "\u001b[0;31mNameError\u001b[0m                                 Traceback (most recent call last)",
            "\u001b[0;32m<ipython-input-2-9327e3dd90f7>\u001b[0m in \u001b[0;36m<module>\u001b[0;34m()\u001b[0m\n\u001b[1;32m     31\u001b[0m \u001b[0;31m#   #W[0]\u001b[0m\u001b[0;34m\u001b[0m\u001b[0;34m\u001b[0m\u001b[0;34m\u001b[0m\u001b[0m\n\u001b[1;32m     32\u001b[0m \u001b[0;31m# backward2(W,A,I,X)\u001b[0m\u001b[0;34m\u001b[0m\u001b[0;34m\u001b[0m\u001b[0;34m\u001b[0m\u001b[0m\n\u001b[0;32m---> 33\u001b[0;31m \u001b[0mn\u001b[0m\u001b[0;34m\u001b[0m\u001b[0;34m\u001b[0m\u001b[0m\n\u001b[0m",
            "\u001b[0;31mNameError\u001b[0m: name 'n' is not defined"
          ]
        }
      ]
    },
    {
      "cell_type": "code",
      "metadata": {
        "id": "dOj-JPqT0OKL",
        "colab_type": "code",
        "colab": {
          "base_uri": "https://localhost:8080/",
          "height": 272
        },
        "outputId": "2cf61108-6974-424f-db17-68060fc0ab52"
      },
      "source": [
        "list(range(len(W)))[::-1]\n",
        "list(range(len(W)-1))[::-1]\n",
        "derives\n",
        "eta\n",
        "W"
      ],
      "execution_count": null,
      "outputs": [
        {
          "output_type": "execute_result",
          "data": {
            "text/plain": [
              "[array([[ 1.09900611, -3.06487066],\n",
              "        [ 0.09791463,  1.07131979],\n",
              "        [-0.91092507, -0.79508418],\n",
              "        [ 0.79080539,  0.37243724],\n",
              "        [-0.07154348, -0.9301618 ],\n",
              "        [-0.99162626,  0.91524152],\n",
              "        [ 0.97705202, -1.52160513],\n",
              "        [ 0.48286777, -0.72634456],\n",
              "        [-0.91795222,  0.52019285],\n",
              "        [ 0.29968825, -1.05974455],\n",
              "        [ 0.81364552, -0.99363916],\n",
              "        [-0.17597009, -0.9369542 ]]),\n",
              " array([ 0.03453762,  0.52969268,  1.39915204, -0.15918858, -0.52061517,\n",
              "        -0.85463684, -0.87348647,  1.17289605, -1.22616295, -2.02904614,\n",
              "         0.43763775,  1.44251679])]"
            ]
          },
          "metadata": {
            "tags": []
          },
          "execution_count": 215
        }
      ]
    },
    {
      "cell_type": "code",
      "metadata": {
        "id": "DBL-6vw8Vycj",
        "colab_type": "code",
        "colab": {}
      },
      "source": [
        "def backward(eta,y, A1,A2_sum,W1,W2,X,B, A2, i,O2,O1,Z1):\n",
        "  #print(\"A1 BCK: \", A1)\n",
        "  #eta=0.1\n",
        "  # if sum(np.isnan(W1))[0]==n:\n",
        "  #   W1=np.array(np.random.normal(0, 1, n*2)).reshape(n,2)\n",
        "  # if sum(np.isnan(B))==n:\n",
        "  #   B=np.array(np.random.normal(0, 1, n))\n",
        "  # if sum(np.isnan(W2))==n:\n",
        "  #   W2=np.array(np.random.normal(0, 1, n))\n",
        "\n",
        "\n",
        "  y=np.array(y)\n",
        "  W2C=copy.deepcopy(W2)\n",
        "  O2=np.array(O2)\n",
        "\n",
        "\n",
        "  #########################\n",
        "  #O1=I[0]; A1=A[0]; O2=I[1]\n",
        "  \n",
        "  ###########\n",
        "  dE_dO2=-1*((y*(1/O2)+(1-y)*(1/(1-O2)))) \n",
        "  \n",
        "  dO2_dW2=A1\n",
        "    \n",
        "  dO2_dA1=W2\n",
        "  try:\n",
        "    dA1_dO1=np.exp(-O1)/(1+np.exp(-O1))**2\n",
        "  except:\n",
        "    dA1_dO1=np.exp(-O1*0)/(1+np.exp(-O1*0))**2\n",
        "\n",
        "  dO1_dW1=X[0]\n",
        "\n",
        "  dO1_dB=1\n",
        "  #############\n",
        "\n",
        "\n",
        "\n",
        "  w2up=eta*dE_dO2*dO2_dW2\n",
        "  \n",
        "  w1up=eta*np.array([dE_dO2*dO2_dA1*dA1_dO1*x for x in dO1_dW1]).T#dE_dO2*dO2_dA1*dA1_dO1*dO1_dW1\n",
        "  bup=eta*dE_dO2*dO2_dA1*dA1_dO1*dO1_dB#dE_dO2*dO2_dA1*dO1*dO1_dB\n",
        "\n",
        "  #######################\n",
        "    \n",
        "  return ((w2up, w1up, bup, dE_dO2))\n"
      ],
      "execution_count": null,
      "outputs": []
    },
    {
      "cell_type": "code",
      "metadata": {
        "id": "lKv5TpqXU3XY",
        "colab_type": "code",
        "colab": {
          "base_uri": "https://localhost:8080/",
          "height": 34
        },
        "outputId": "fdd71cf7-1aec-47a5-bd87-80c617a579c3"
      },
      "source": [
        "# row=next(batch.iterrows())\n",
        "# rrr=row\n",
        "# rrr\n",
        "#np.dot(W[0],X[0])+B[0]\n",
        "# for i in range(1, len(N)-1):\n",
        "#   print(i)\n",
        "row=[1,1,1]\n",
        "row[0]\n",
        "list(range(0,len(train),BATCH))\n",
        "W\n",
        "-1*((y*(1/I[-1])+(1-y)*(1/(1-I[-1])))) \n",
        "-1*((y*(1/O2)+(1-y)*(1/(1-O2)))) "
      ],
      "execution_count": null,
      "outputs": [
        {
          "output_type": "execute_result",
          "data": {
            "text/plain": [
              "-2.745036268559168"
            ]
          },
          "metadata": {
            "tags": []
          },
          "execution_count": 77
        }
      ]
    },
    {
      "cell_type": "code",
      "metadata": {
        "id": "HCAK-MAMSSlV",
        "colab_type": "code",
        "colab": {
          "base_uri": "https://localhost:8080/",
          "height": 34
        },
        "outputId": "729fa6af-02e6-4946-b381-7f3f23d55d04"
      },
      "source": [
        "#[np.dot(W1[i],X[0])+B[i] for i in range(n)]\n",
        "X=[[1,1]]\n",
        "i=0\n",
        "np.dot(W[i],X[0])+B[i]\n",
        "[np.dot(W1[i],X[0])+B[i] for i in range(n)]\n",
        "#[np.dot(W1[i],X[0]) for i in range(12)]\n",
        "\n"
      ],
      "execution_count": null,
      "outputs": [
        {
          "output_type": "execute_result",
          "data": {
            "text/plain": [
              "1.3243669276975834"
            ]
          },
          "metadata": {
            "tags": []
          },
          "execution_count": 122
        }
      ]
    },
    {
      "cell_type": "code",
      "metadata": {
        "id": "0RP0tn1GObjd",
        "colab_type": "code",
        "colab": {}
      },
      "source": [
        "import numpy as np\n",
        "N=[2,12,2,3,4]\n",
        "N=[2,12,2,3,4,7,8,9,2]\n",
        "N=[2, 12]\n",
        "#N=[12]\n",
        "#N=[2,3]\n",
        "x1,x2=1,2\n",
        "X=[[x1,x2]]\n",
        "lx=len(X) # = 2\n",
        "\n",
        "\n",
        "W=[]; B=[]\n",
        "\n",
        "for i in range(1,len(N)):\n",
        "  W.append(np.array(np.random.normal(0, 1, N[i]*N[i-1])).reshape(N[i],N[i-1]))\n",
        "  B.append(np.random.normal(0, 1, N[i]))\n",
        "W.append(np.random.normal(0, 1, N[-1]))\n",
        "\n",
        "# W[0]=np.array([1,2,3,4,5,6]).reshape(-1,2); W[1]=[1,2,3]\n",
        "# B[0]=[1,1,1]\n"
      ],
      "execution_count": null,
      "outputs": []
    },
    {
      "cell_type": "code",
      "metadata": {
        "id": "6Gc_2yM-Ff9j",
        "colab_type": "code",
        "colab": {}
      },
      "source": [
        "def generateWandB(N):\n",
        "  #lx=len(X) # = 2\n",
        "\n",
        "\n",
        "  W=[]; B=[]\n",
        "\n",
        "  for i in range(1,len(N)):\n",
        "    #W.append(np.array(np.random.normal(0, 1, N[i]*N[i-1]) ).reshape(N[i],N[i-1]))\n",
        "    \n",
        "    #---He et al weight initialization\n",
        "    W.append(np.array(np.random.normal(0, 1, N[i]*N[i-1])*np.sqrt(2/N[i-1]) ).reshape(N[i],N[i-1]))\n",
        "    #----\n",
        "\n",
        "    B.append(np.random.normal(0, 1, N[i]))\n",
        "  W.append(np.random.normal(0, 1, N[-1]))\n",
        "  \n",
        "  W=[np.array(W[i]) for i in range(len(W))]\n",
        "  B=[np.array(B[i])*0 for i in range(len(B))]\n",
        "  return (W,B)"
      ],
      "execution_count": 4,
      "outputs": []
    },
    {
      "cell_type": "code",
      "metadata": {
        "id": "7u3GFQ4VPHXH",
        "colab_type": "code",
        "colab": {
          "base_uri": "https://localhost:8080/",
          "height": 272
        },
        "outputId": "9e2b5b5a-8650-4865-dab0-452965bd87a3"
      },
      "source": [
        "# # W1=W[0]; W2=W[1]; #B=B[0]\n",
        "# # B=np.random.normal(0, 1, n)\n",
        "# a=np.empty(2)\n",
        "# wx,bx=generateWandB(N)\n",
        "wx"
      ],
      "execution_count": null,
      "outputs": [
        {
          "output_type": "execute_result",
          "data": {
            "text/plain": [
              "[array([[-0.22318639,  0.78212822],\n",
              "        [-0.10507607,  0.52852882],\n",
              "        [-1.18586516,  0.55048063],\n",
              "        [ 0.24550696,  0.7645367 ],\n",
              "        [ 0.86527411, -0.05128995],\n",
              "        [-0.32344119, -0.74301602],\n",
              "        [-1.0475786 ,  0.04186394],\n",
              "        [ 1.2545116 , -0.12566899],\n",
              "        [-0.32895305, -2.37913569],\n",
              "        [-1.10811516,  0.97857568],\n",
              "        [-0.09671618,  0.68659197],\n",
              "        [ 0.20398852,  0.95704838]]),\n",
              " array([-0.0329766 ,  0.39380896, -0.71218715,  0.44097862,  0.22895401,\n",
              "        -0.10685313, -0.85548007, -1.1084808 ,  1.2168497 , -0.39121173,\n",
              "         0.53517774, -0.19897337])]"
            ]
          },
          "metadata": {
            "tags": []
          },
          "execution_count": 292
        }
      ]
    },
    {
      "cell_type": "code",
      "metadata": {
        "id": "4uIhc7ZBOcHi",
        "colab_type": "code",
        "colab": {}
      },
      "source": [
        "def forward2(W, B, X):\n",
        "  I=[]\n",
        "  A=[]\n",
        "  #I.append(X[0])\n",
        "  I.append(np.dot(W[0],X[0])+B[0])  #12x2*2*1+12 => 12x1\n",
        "\n",
        "  for i in range(1, len(N)):\n",
        "    #print(i)\n",
        "    #---sigmoid\n",
        "    #A.append(sigmoid(I[i-1])) #12x1\n",
        "    #----\n",
        "\n",
        "    #---relu sep 9 20\n",
        "    A.append(relu(I[i-1]))\n",
        "    #print(\"A:\",A)\n",
        "    #----\n",
        "\n",
        "    #print(A[i-1])\n",
        "    if i<len(N)-1:\n",
        "      I.append(np.dot(W[i],A[i-1])+B[i]) #12x1*2x12\n",
        "    else:\n",
        "      I.append(np.dot(W[i],A[i-1]))\n",
        "  A.append(sigmoid(I[-1]))\n",
        "  #---relu sep 9 20\n",
        "  #A.append(relu(I[-1]))\n",
        "  \n",
        "  #-----\n",
        "\n",
        "  #I.append(np.dot(W[-1],A[-1]))\n",
        "  #print(\"A={}, I={}\".format(A,I))\n",
        "  return(A,I)"
      ],
      "execution_count": 3,
      "outputs": []
    },
    {
      "cell_type": "code",
      "metadata": {
        "id": "UFyMfnBBFBqw",
        "colab_type": "code",
        "colab": {
          "base_uri": "https://localhost:8080/",
          "height": 51
        },
        "outputId": "1fabd963-4abd-4ccb-e2f9-269426152e11"
      },
      "source": [
        "sigmoid(I[1])"
      ],
      "execution_count": null,
      "outputs": [
        {
          "output_type": "execute_result",
          "data": {
            "text/plain": [
              "array([6.66652818e-07, 9.99403057e-01, 9.99972880e-01, 5.47991546e-01,\n",
              "       5.58163150e-02, 9.99755913e-01, 1.67818469e-02])"
            ]
          },
          "metadata": {
            "tags": []
          },
          "execution_count": 166
        }
      ]
    },
    {
      "cell_type": "code",
      "metadata": {
        "id": "R5qTYUH7Q1sU",
        "colab_type": "code",
        "colab": {}
      },
      "source": [
        "def forward2(W, B, X):\n",
        "  I=[]\n",
        "  A=[]\n",
        "  #I.append(X[0])\n",
        "  I.append(np.dot(W[0],X[0])+B[0])  #12x2*2*1+12 => 12x1\n",
        "\n",
        "  for i in range(1, len(N)-1):\n",
        "    #print(i)\n",
        "    A.append(sigmoid(I[i-1])) #12x1\n",
        "    #print(A[i-1])\n",
        "    I.append(np.dot(W[i],A[i-1])+B[i]) #12x1*2x12\n",
        "  A.append(sigmoid(I[-1]))\n",
        "  I.append(np.dot(W[-1],A[-1]))\n",
        "  print(\"A={}, I={}\".format(A,I))\n",
        "  return(A,I)"
      ],
      "execution_count": null,
      "outputs": []
    },
    {
      "cell_type": "code",
      "metadata": {
        "id": "U_F6np-aRMeD",
        "colab_type": "code",
        "colab": {}
      },
      "source": [
        "def forward(W1,W2,B, X):\n",
        "\n",
        "  Z1=[np.dot(W1[i],X[0])+B[i] for i in range(n)]\n",
        " \n",
        "  A1=[sigmoid(Z1[i]  ) for i in range(n)]\n",
        "\n",
        "  A2=[sigmoid(A1[i]*W2[i]   ) for i in range(n)]\n",
        "  O1=A1*W2\n",
        "  \n",
        "#######\n",
        "  O1=np.array(Z1)\n",
        "  A1=sigmoid(O1)\n",
        "  O2=np.dot(A1,W2)\n",
        "  print(\"O1={}, A1={}, O2={}\".format(O1,A1,O2))\n",
        "\n",
        "\n",
        "\n",
        "\n",
        "  \n",
        "\n",
        "\n",
        "#########\n",
        "\n",
        "\n",
        "  return (A1,sum(A2),A2,O2,O1,Z1)"
      ],
      "execution_count": null,
      "outputs": []
    },
    {
      "cell_type": "code",
      "metadata": {
        "id": "EuGxnbUmw9-z",
        "colab_type": "code",
        "colab": {}
      },
      "source": [
        "def sumMat(xup):\n",
        "  array=[]\n",
        "  l=([(xup[i][j]) for j in range(len(xup[0])) for i in range(len(xup))])\n",
        "  for k in range(len(l))[::len(xup)]:\n",
        "    array.append((np.sum(l[k:k+len(xup)],axis=0)))\n",
        "#    print(\"---------\")\n",
        "  return array"
      ],
      "execution_count": 7,
      "outputs": []
    },
    {
      "cell_type": "code",
      "metadata": {
        "id": "zmDa6FolSYIV",
        "colab_type": "code",
        "colab": {
          "base_uri": "https://localhost:8080/",
          "height": 646
        },
        "outputId": "a8a75250-bffe-4359-b9b2-b6d60e0c16c0"
      },
      "source": [
        "# A,I=forward2(W,B,[[1,2]])\n",
        "# print(\"B:\",B)\n",
        "# print(\"Bx:\",Bx)\n",
        "#X\n",
        "#Wx=copy.deepcopy(W); Bx=copy.deepcopy(B)\n",
        "#print(\"A={}, I={}\".format(A,I))\n",
        "\n",
        "W"
      ],
      "execution_count": null,
      "outputs": [
        {
          "output_type": "execute_result",
          "data": {
            "text/plain": [
              "[array([[ 0.40142669, -0.39204875],\n",
              "        [-0.73413783,  1.06554516],\n",
              "        [-0.09032022,  2.24089139],\n",
              "        [-2.02377492,  1.6034136 ],\n",
              "        [ 0.44917924, -0.61905768],\n",
              "        [ 0.31863759,  0.03110064],\n",
              "        [-1.17199182, -0.4730101 ],\n",
              "        [ 1.12265302, -0.88587803],\n",
              "        [-0.1797226 ,  0.07348262],\n",
              "        [ 0.62678197,  0.98638971],\n",
              "        [ 0.66157535, -0.77627665],\n",
              "        [ 1.68211765, -0.0702617 ]]),\n",
              " array([[-0.67292264,  0.18749239,  0.13691813,  1.39369326, -0.47515811,\n",
              "          0.66363665,  0.90440676, -2.30527771,  0.82298459,  1.66591605,\n",
              "          1.08055719, -0.72414761],\n",
              "        [ 1.100332  , -0.02889234,  0.66230561,  0.58750868, -1.82684343,\n",
              "          0.97090512,  0.22658476,  1.13067439, -0.23074664, -0.4606439 ,\n",
              "          0.38095046, -2.66494315]]),\n",
              " array([[ 0.96873479, -0.89556726],\n",
              "        [ 0.78620246,  0.10080607],\n",
              "        [ 0.53168733,  1.43037733]]),\n",
              " array([[ 0.99227583,  0.09551322,  1.3428002 ],\n",
              "        [ 0.40488504, -0.53429319,  0.29130041],\n",
              "        [-0.24840422,  0.7506052 ,  1.93710922],\n",
              "        [ 0.90757537, -0.99842384,  0.71333716]]),\n",
              " array([[ 1.82238656, -1.02212258, -0.95534398, -0.07774308],\n",
              "        [ 1.52015528,  0.56185008,  0.58593449,  2.18833008],\n",
              "        [-0.96531999, -0.64404839,  1.48282274, -1.18808652],\n",
              "        [-0.04768827, -0.42103041, -1.79311278, -0.38439993],\n",
              "        [-0.87134187,  1.3912663 , -0.43906986,  0.67041182],\n",
              "        [-1.54686557, -1.0301897 ,  1.3203298 , -1.86504229],\n",
              "        [-1.38821278, -0.45696397, -1.25779095, -1.07709538]]),\n",
              " array([[ 1.1280343 , -0.15057728,  0.71673605,  0.31643547, -0.06209029,\n",
              "          0.74526142,  1.43543168],\n",
              "        [-1.4541284 ,  1.86825206, -1.01300324, -0.38498109, -0.23994497,\n",
              "          1.31322048, -0.01188637]]),\n",
              " array([-0.59457761,  0.63194252])]"
            ]
          },
          "metadata": {
            "tags": []
          },
          "execution_count": 166
        }
      ]
    },
    {
      "cell_type": "code",
      "metadata": {
        "id": "3o2JR21Qv3Z7",
        "colab_type": "code",
        "colab": {
          "base_uri": "https://localhost:8080/",
          "height": 231
        },
        "outputId": "545ec3ed-4369-4807-d305-632162e43074"
      },
      "source": [
        "  I=[]\n",
        "  A=[]\n",
        "  #I.append(X[0])\n",
        "  I.append(np.dot(Wx[0],X[0])+B[0])  #12x2*2*1+12 => 12x1\n",
        "\n",
        "  for i in range(1, len(N)-1):\n",
        "    #print(i)\n",
        "    A.append(sigmoid(I[i-1])) #12x1\n",
        "    #print(A[i-1])\n",
        "    I.append(np.dot(Wx[i],A[i-1])+B[i]) #12x1*2x12\n",
        "  A.append(sigmoid(I[-1]))\n",
        "  I.append(np.dot(Wx[-1],A[-1]))\n"
      ],
      "execution_count": null,
      "outputs": [
        {
          "output_type": "error",
          "ename": "ValueError",
          "evalue": "ignored",
          "traceback": [
            "\u001b[0;31m---------------------------------------------------------------------------\u001b[0m",
            "\u001b[0;31mValueError\u001b[0m                                Traceback (most recent call last)",
            "\u001b[0;32m<ipython-input-142-847482175196>\u001b[0m in \u001b[0;36m<module>\u001b[0;34m()\u001b[0m\n\u001b[1;32m     10\u001b[0m   \u001b[0mI\u001b[0m\u001b[0;34m.\u001b[0m\u001b[0mappend\u001b[0m\u001b[0;34m(\u001b[0m\u001b[0mnp\u001b[0m\u001b[0;34m.\u001b[0m\u001b[0mdot\u001b[0m\u001b[0;34m(\u001b[0m\u001b[0mWx\u001b[0m\u001b[0;34m[\u001b[0m\u001b[0mi\u001b[0m\u001b[0;34m]\u001b[0m\u001b[0;34m,\u001b[0m\u001b[0mA\u001b[0m\u001b[0;34m[\u001b[0m\u001b[0mi\u001b[0m\u001b[0;34m-\u001b[0m\u001b[0;36m1\u001b[0m\u001b[0;34m]\u001b[0m\u001b[0;34m)\u001b[0m\u001b[0;34m+\u001b[0m\u001b[0mB\u001b[0m\u001b[0;34m[\u001b[0m\u001b[0mi\u001b[0m\u001b[0;34m]\u001b[0m\u001b[0;34m)\u001b[0m \u001b[0;31m#12x1*2x12\u001b[0m\u001b[0;34m\u001b[0m\u001b[0;34m\u001b[0m\u001b[0m\n\u001b[1;32m     11\u001b[0m \u001b[0mA\u001b[0m\u001b[0;34m.\u001b[0m\u001b[0mappend\u001b[0m\u001b[0;34m(\u001b[0m\u001b[0msigmoid\u001b[0m\u001b[0;34m(\u001b[0m\u001b[0mI\u001b[0m\u001b[0;34m[\u001b[0m\u001b[0;34m-\u001b[0m\u001b[0;36m1\u001b[0m\u001b[0;34m]\u001b[0m\u001b[0;34m)\u001b[0m\u001b[0;34m)\u001b[0m\u001b[0;34m\u001b[0m\u001b[0;34m\u001b[0m\u001b[0m\n\u001b[0;32m---> 12\u001b[0;31m \u001b[0mI\u001b[0m\u001b[0;34m.\u001b[0m\u001b[0mappend\u001b[0m\u001b[0;34m(\u001b[0m\u001b[0mnp\u001b[0m\u001b[0;34m.\u001b[0m\u001b[0mdot\u001b[0m\u001b[0;34m(\u001b[0m\u001b[0mWx\u001b[0m\u001b[0;34m[\u001b[0m\u001b[0;34m-\u001b[0m\u001b[0;36m1\u001b[0m\u001b[0;34m]\u001b[0m\u001b[0;34m,\u001b[0m\u001b[0mA\u001b[0m\u001b[0;34m[\u001b[0m\u001b[0;34m-\u001b[0m\u001b[0;36m1\u001b[0m\u001b[0;34m]\u001b[0m\u001b[0;34m)\u001b[0m\u001b[0;34m)\u001b[0m\u001b[0;34m\u001b[0m\u001b[0;34m\u001b[0m\u001b[0m\n\u001b[0m",
            "\u001b[0;32m<__array_function__ internals>\u001b[0m in \u001b[0;36mdot\u001b[0;34m(*args, **kwargs)\u001b[0m\n",
            "\u001b[0;31mValueError\u001b[0m: shapes (4,) and (12,) not aligned: 4 (dim 0) != 12 (dim 0)"
          ]
        }
      ]
    },
    {
      "cell_type": "code",
      "metadata": {
        "id": "7mAnG9arwGkv",
        "colab_type": "code",
        "colab": {
          "base_uri": "https://localhost:8080/",
          "height": 34
        },
        "outputId": "54622f4a-9541-4d0e-9f1c-0291b6b51a86"
      },
      "source": [
        "N"
      ],
      "execution_count": null,
      "outputs": [
        {
          "output_type": "execute_result",
          "data": {
            "text/plain": [
              "[2, 12]"
            ]
          },
          "metadata": {
            "tags": []
          },
          "execution_count": 150
        }
      ]
    },
    {
      "cell_type": "code",
      "metadata": {
        "id": "n1HRTavaOetr",
        "colab_type": "code",
        "colab": {
          "base_uri": "https://localhost:8080/",
          "height": 34
        },
        "outputId": "af5df58a-d29d-48d2-f833-02ed70a846d2"
      },
      "source": [
        "A,I=forward2(W,B,X)\n",
        "#a1,b1=forward2(W,B,X)\n",
        "#a,b,c,d,e,f=forward(W1,W2,B[0],X)\n",
        "X"
      ],
      "execution_count": null,
      "outputs": [
        {
          "output_type": "execute_result",
          "data": {
            "text/plain": [
              "[[1, 2]]"
            ]
          },
          "metadata": {
            "tags": []
          },
          "execution_count": 174
        }
      ]
    },
    {
      "cell_type": "code",
      "metadata": {
        "id": "8mq7xhhYPHd0",
        "colab_type": "code",
        "colab": {}
      },
      "source": [
        "  O2=I[1]\n",
        "  O1=I[0]\n",
        "  W1=W[0]\n",
        "  W2=W[1]\n",
        "  A1=A[0]\n",
        "  Bx=B\n",
        "# print(A1)\n",
        "# A[0]\n",
        "# print(B[1])"
      ],
      "execution_count": null,
      "outputs": []
    },
    {
      "cell_type": "code",
      "metadata": {
        "id": "YJVgIxsIZ-Do",
        "colab_type": "code",
        "colab": {}
      },
      "source": [
        "def dA_dI(I):\n",
        "  da_di=np.exp(-I)/(1+np.exp(-I))**2\n",
        "  return da_di\n"
      ],
      "execution_count": null,
      "outputs": []
    },
    {
      "cell_type": "code",
      "metadata": {
        "id": "XSXZrVpgld1i",
        "colab_type": "code",
        "colab": {}
      },
      "source": [
        ""
      ],
      "execution_count": null,
      "outputs": []
    },
    {
      "cell_type": "code",
      "metadata": {
        "id": "REGBA4BcPp4U",
        "colab_type": "code",
        "colab": {}
      },
      "source": [
        "\n",
        "from IPython.display import clear_output\n",
        "%matplotlib inline\n",
        "import matplotlib.pyplot as plt\n",
        "plt.style.use('seaborn-whitegrid')\n",
        "class Initialize:\n",
        "    def __init__(self, data, N,testfrac=0.90):\n",
        "      self.data=data\n",
        "      self.N=N\n",
        "      self.testfrac=testfrac\n",
        "      self.z=1\n",
        "      \n",
        "    def generateWandB(self):\n",
        "      #lx=len(X) # = 2\n",
        "\n",
        "\n",
        "      W=[]; B=[]\n",
        "      N=self.N\n",
        "      for i in range(1,len(N)):\n",
        "        #W.append(np.array(np.random.normal(0, 1, N[i]*N[i-1]) ).reshape(N[i],N[i-1]))\n",
        "        \n",
        "        #---He et al weight initialization\n",
        "        W.append(np.array(np.random.normal(0, 1, N[i]*N[i-1])*np.sqrt(2/N[i-1]) ).reshape(N[i],N[i-1]))\n",
        "        #----\n",
        "\n",
        "        B.append(np.random.normal(0, 1, N[i]))\n",
        "      W.append(np.random.normal(0, 1, N[-1]))\n",
        "      \n",
        "      W=[np.array(W[i]) for i in range(len(W))]\n",
        "      B=[np.array(B[i])*0 for i in range(len(B))]\n",
        "      self.W=W\n",
        "      self.B=B\n",
        "      #return (self.W,self.B)\n",
        "\n",
        "    def trainAndTest(self):\n",
        "      df=self.df.sample(frac=1).reset_index(drop=True)\n",
        "      \n",
        "      thresh=int(len(df)*self.testfrac)\n",
        "      self.test=df[:thresh]\n",
        "      self.train=df[thresh:]\n",
        "      \n",
        "    def generateData(self, show=True):\n",
        "      self.show=show\n",
        "\n",
        "      ##################\n",
        "\n",
        "\n",
        "      # #Circle\n",
        "      if self.data=='circle':\n",
        "          r=65\n",
        "          a,b=-12,10\n",
        "          n=500\n",
        "          rng=np.linspace(-6,6,n)\n",
        "          rngy=np.linspace(a,-a,n)\n",
        "          rngx=np.linspace(-a,a,n)\n",
        "          p=[]\n",
        "          xy_1=[]\n",
        "          for x in rngx:\n",
        "              for y in rngy:\n",
        "\n",
        "                  z=x**2+y**2-r\n",
        "                  xy_1.append(z)\n",
        "                  r1=np.random.randint(-7,7)*0.17\n",
        "                  r2=np.random.randint(-7,7)*0.17\n",
        "                  if z<0.1 and z>-0.1:\n",
        "                    p.append((x+r1,y+r2))\n",
        "\n",
        "\n",
        "          r=4.25\n",
        "          a,b=-6,6\n",
        "          a=-12\n",
        "          n=500\n",
        "          rng=np.linspace(-6,6,n)\n",
        "          rngy=np.linspace(a,-a,n)\n",
        "          rngx=np.linspace(-a,a,n)\n",
        "          p_2=[]\n",
        "          xy_2=[]\n",
        "          for x in rngx:\n",
        "              for y in rngy:\n",
        "\n",
        "                  z=x**2+y**2-r\n",
        "                  xy_2.append(z)\n",
        "                  r1=np.random.randint(-5,5)*0.43\n",
        "                  r2=np.random.randint(-5,5)*0.43\n",
        "                  if z<0.1 and z>-0.1:\n",
        "                    p_2.append((x+r1,y+r2))\n",
        "                    #p_2.append((x,y))         \n",
        "          xs=[i[0] for i in p]\n",
        "          ys=[i[1] for i in p]\n",
        "\n",
        "\n",
        "          xs_2=[i[0] for i in p_2]\n",
        "          ys_2=[i[1] for i in p_2]\n",
        "\n",
        "          #####################\n",
        "\n",
        "\n",
        "\n",
        "      if self.data==\"square\":\n",
        "\n",
        "        ####################################################\n",
        "      #SQUARE\n",
        "        #r=65\n",
        "        a,b=-12,10\n",
        "        n=100\n",
        "        a=12\n",
        "        p=.051\n",
        "        #rng=np.linspace(-6,6,n)\n",
        "        rngy=np.linspace(a,-a,n)\n",
        "        rngx=np.linspace(-a,a,n)\n",
        "        psq=[]; psq2=[]\n",
        "        xy_1=[]\n",
        "        a2=11.0\n",
        "        rr=1.0\n",
        "\n",
        "        for x in rngx:\n",
        "            for y in rngy:\n",
        "\n",
        "              if np.random.choice([1,-1],p=[p,1-p])>0:\n",
        "                if (x<-rr and x>-(a2) and y<(a2) and y>rr) \\\n",
        "                or ( x>rr and x<(a2) and y<-rr and y>-(a2)):\n",
        "                  psq.append((x,y))\n",
        "                if (x<(a2) and x>rr and y>rr and y<(a2) ) or ( x<-rr and x>-(a2) and y<-rr and y>-(a2)) :# or ( x>rr and x<(a) and y<-rr and y>-(a)):\n",
        "                  psq2.append((x,y))\n",
        "\n",
        "\n",
        "        xs=[i[0] for i in psq]\n",
        "        ys=[i[1] for i in psq]\n",
        "\n",
        "\n",
        "        xs_2=[i[0] for i in psq2]\n",
        "        ys_2=[i[1] for i in psq2]\n",
        "\n",
        "      if show:\n",
        "        axes = plt.gca()\n",
        "        axes.set_xlim([a,-a])\n",
        "        axes.set_ylim([a,-a])\n",
        "\n",
        "        plt.scatter(xs,ys,color='k') \n",
        "        #plt.scatter(xs_2,ys_2, color='g') \n",
        "        plt.scatter(xs_2,ys_2, color='g')\n",
        "\n",
        "        plt.show()\n",
        "\n",
        "\n",
        "      ss=[(xs[i],ys[i],1) for i in range(len(xs))]\n",
        "      ss_2=[(xs_2[i],ys_2[i],0) for i in range(len(xs_2))]\n",
        "      df=pd.concat([pd.DataFrame(ss), pd.DataFrame(ss_2)])\n",
        "      self.df=df\n",
        "\n",
        "\n",
        "\n",
        "\n",
        "##################\n"
      ],
      "execution_count": 1,
      "outputs": []
    },
    {
      "cell_type": "code",
      "metadata": {
        "id": "EG5tkJ_4QXJ8",
        "colab_type": "code",
        "colab": {}
      },
      "source": [
        "class PropagateEpoch:\n",
        "    def __init__(self, train, test, W,B,activation,N, BATCH=10):\n",
        "      self.train=train\n",
        "      self.test=test\n",
        "      self.W=W\n",
        "      self.B=B\n",
        "      self.activation=activation\n",
        "      self.N=N\n",
        "      self.BATCH=BATCH\n",
        "\n",
        "      #self.X=\n",
        "    def batchDescent(self):\n",
        "      for j in   list(range(0,len(self.train),self.BATCH)):\n",
        "        Loss=[] \n",
        "        Wup=[]; Bup=[]; \n",
        "        batch=self.train[j:j+self.BATCH]\n",
        "        count=0\n",
        "        for row in batch.iterrows():\n",
        "          #TODO\n",
        "          count+=1\n",
        "          \n",
        "          Wupx=[]; Bupx=[]\n",
        "          \n",
        "          x1=row[1][0]; x2=row[1][1]; y=row[1][2]\n",
        "          \n",
        "          x1=np.array(x1)\n",
        "          x2=np.array(x2)\n",
        "          X=[[x1,x2]]\n",
        "          y=np.array(y)\n",
        "          self.forward(self.W,self.B,X) \n",
        "\n",
        "    def relu(self,z):\n",
        "\n",
        "      #return np.array([max(0,e) for e in z ])\n",
        "      #leaky\n",
        "      return np.array([e if e>0 else 0.01*e for e in z ])\n",
        "\n",
        "\n",
        "    def sigmoid(self,z):\n",
        "      #print(z)\n",
        "      # if z<-200:\n",
        "      #     return 0\n",
        "      try:\n",
        "        sig= 1/(1+np.exp(-z))\n",
        "      except:\n",
        "        sig= 1/(1+np.exp(-z*0))\n",
        "\n",
        "      return sig\n",
        "\n",
        "\n",
        "    def softmax(self,z):\n",
        "      res=np.exp(z)/np.sum(np.exp(z))\n",
        "      return res\n",
        "\n",
        "    def forward(self, X):\n",
        "      self.X=X\n",
        "      self.I=[]; self.A=[]\n",
        "      \n",
        "      self.I.append(np.dot(self.W[0],self.X[0])+self.B[0]) \n",
        "      for i in range(1, len(self.N)):\n",
        "\n",
        "         if self.activation=='sigmoid':\n",
        "\n",
        "         #---sigmoid\n",
        "           self.A.append(self.sigmoid(self.I[i-1])) #12x1\n",
        "         #----\n",
        "\n",
        "         if self.activation=='relu':\n",
        "           #---relu sep 9 20\n",
        "           self.A.append(self.relu(self.I[i-1]))\n",
        "           #print(\"A:\",A)\n",
        "           #----\n",
        "\n",
        "         if i<len(self.N)-1:\n",
        "           self.I.append(np.dot(self.W[i],self.A[i-1])+self.B[i]) #12x1*2x12\n",
        "         else:\n",
        "           self.I.append(np.dot(self.W[i],self.A[i-1]))\n",
        "      self.A.append(self.sigmoid(self.I[-1]))\n",
        "      return(self.A,self.I)\n",
        "\n",
        "\n",
        "\n",
        "\n"
      ],
      "execution_count": 2,
      "outputs": []
    },
    {
      "cell_type": "code",
      "metadata": {
        "id": "Y0up28oXPq5i",
        "colab_type": "code",
        "colab": {}
      },
      "source": [
        "N=[2,8,8,18,8,8,7,10]\n",
        "obj=Initialize(\"square\",N,0.5)"
      ],
      "execution_count": null,
      "outputs": []
    },
    {
      "cell_type": "code",
      "metadata": {
        "id": "cuAGDyVUP7fC",
        "colab_type": "code",
        "colab": {
          "base_uri": "https://localhost:8080/",
          "height": 262
        },
        "outputId": "87d153e9-2964-4463-b5ef-60f125578ac4"
      },
      "source": [
        "import numpy as np\n",
        "import pandas as pd\n",
        "obj.generateData(True)"
      ],
      "execution_count": null,
      "outputs": [
        {
          "output_type": "display_data",
          "data": {
            "image/png": "[encoded data removed]",
            "text/plain": [
              "<Figure size 432x288 with 1 Axes>"
            ]
          },
          "metadata": {
            "tags": []
          }
        }
      ]
    },
    {
      "cell_type": "code",
      "metadata": {
        "id": "_-9arRfAR62m",
        "colab_type": "code",
        "colab": {
          "base_uri": "https://localhost:8080/",
          "height": 1000
        },
        "outputId": "402e0847-15fa-4f99-e0a7-9a8d3c57e13e"
      },
      "source": [
        "#obj.generateWandB()\n",
        "obj.W"
      ],
      "execution_count": null,
      "outputs": [
        {
          "output_type": "execute_result",
          "data": {
            "text/plain": [
              "[array([[-0.08315741, -0.40016646],\n",
              "        [-0.77365254, -1.99201302],\n",
              "        [ 0.75000554, -0.96999176],\n",
              "        [ 0.46263397, -0.03590813],\n",
              "        [ 0.02904804, -0.33121838],\n",
              "        [ 1.63392809, -0.10558611],\n",
              "        [-0.0489765 ,  0.06680486],\n",
              "        [-0.13968267, -1.21087592]]),\n",
              " array([[ 0.48985573, -1.12804782,  0.02470798,  0.12552901,  1.09801747,\n",
              "          0.53927266,  0.7574703 , -0.60636301],\n",
              "        [-0.64189907, -0.11148729,  0.49297038, -0.47436588,  0.53654767,\n",
              "         -0.75540914, -0.17691979, -0.3711892 ],\n",
              "        [ 0.47223148, -0.06062106, -1.01831049,  0.37293875, -0.09377813,\n",
              "          0.00133441,  0.10592249,  0.37241449],\n",
              "        [-0.31989298, -0.82171357,  0.50546931, -0.11414374, -0.81267134,\n",
              "         -0.15943902,  0.15363049, -0.07748286],\n",
              "        [-0.59902486, -0.64865069,  0.2931916 , -1.18553594,  0.12724131,\n",
              "         -0.39319836,  0.38831856, -0.32882901],\n",
              "        [ 0.24303402, -0.48062011,  0.13609528, -0.11857266, -0.78509478,\n",
              "         -0.02792723, -0.74507648,  0.81038444],\n",
              "        [-0.19890671, -0.30085124, -0.10834189, -0.47307834,  0.32116471,\n",
              "          0.53779075,  0.25529207,  0.01391102],\n",
              "        [-0.0168955 , -0.4786601 ,  0.139313  , -0.55402656, -0.37022789,\n",
              "          1.0650195 , -0.24174326,  0.1186073 ]]),\n",
              " array([[-1.93964139e-01,  4.63750773e-02,  2.66780983e-01,\n",
              "          1.75558228e-01,  1.92729906e-01, -1.39662448e+00,\n",
              "          1.14066655e+00, -2.48552426e-01],\n",
              "        [-2.04157573e-01, -9.87523370e-02,  9.39368711e-02,\n",
              "          5.80435301e-01, -4.58616194e-01, -1.41550038e-01,\n",
              "         -3.98649276e-01, -2.60811401e-01],\n",
              "        [-2.08181865e-01,  4.90665407e-02, -6.83974185e-01,\n",
              "          5.09257254e-02, -1.00336975e+00,  1.57476425e-01,\n",
              "         -5.16581600e-01,  4.59563060e-01],\n",
              "        [-2.45506370e-01,  2.99794574e-01, -2.68422701e-01,\n",
              "         -7.97748898e-02,  3.35174501e-01, -1.83036487e-01,\n",
              "          1.09481081e-01, -7.85941622e-01],\n",
              "        [-7.11776896e-01,  9.38583951e-02, -1.03268558e-01,\n",
              "         -1.82119728e-01, -4.23472847e-01, -1.93196150e-01,\n",
              "          4.00948790e-01,  1.67242036e-01],\n",
              "        [ 1.79041497e-01, -4.23999526e-01, -4.11221734e-01,\n",
              "         -1.07142384e+00, -1.38176306e-01, -3.48307878e-01,\n",
              "          2.88262446e-01, -1.27287749e+00],\n",
              "        [ 6.30732307e-01, -2.36608234e-01,  2.63328966e-01,\n",
              "          5.14520892e-01, -2.71616260e-01,  1.02743009e-01,\n",
              "          8.47601996e-02, -5.57088134e-01],\n",
              "        [-7.18468526e-01,  8.88714666e-02,  4.80615381e-01,\n",
              "         -2.99197525e-01,  6.58303748e-01,  3.27628558e-01,\n",
              "          1.35664715e+00,  1.89535074e-02],\n",
              "        [ 7.39707146e-01,  6.26509167e-01, -8.47168056e-02,\n",
              "         -4.36564866e-01, -4.78362360e-01, -8.09266301e-01,\n",
              "          2.69651821e-01,  2.15111195e-01],\n",
              "        [-3.88911896e-01,  4.73963498e-01,  2.33141878e-01,\n",
              "         -2.70543677e-01, -4.97384236e-02, -3.82520042e-01,\n",
              "         -5.40267914e-01, -1.92405949e-01],\n",
              "        [-2.37013862e-01,  1.69650446e-01, -3.57204915e-01,\n",
              "          1.26025560e-02,  6.02292004e-01, -4.46039272e-01,\n",
              "         -3.17305100e-01, -6.82175600e-01],\n",
              "        [-4.41173604e-02, -3.80505987e-01, -2.53778387e-01,\n",
              "         -4.43381715e-01,  2.51669388e-02,  7.65932693e-02,\n",
              "          9.26074286e-01, -9.50137122e-02],\n",
              "        [-1.50650019e-01, -1.05414142e+00, -2.96221451e-01,\n",
              "          1.83477805e-02, -8.14091708e-01,  1.09337599e-01,\n",
              "         -4.74356341e-01,  3.21298900e-01],\n",
              "        [ 4.31937513e-02, -4.57120067e-01,  4.11833059e-02,\n",
              "          8.61228879e-02, -8.05998378e-01,  7.32345518e-01,\n",
              "         -6.04124361e-01,  7.82751955e-01],\n",
              "        [-1.09176576e+00, -5.29922671e-01,  3.09467282e-01,\n",
              "         -7.40350701e-01, -2.61903695e-01,  6.48386475e-01,\n",
              "          5.08365981e-01, -1.14606814e+00],\n",
              "        [ 5.42358733e-01, -6.61478213e-01, -3.29826249e-01,\n",
              "          6.61182073e-04,  2.25765338e-02,  2.33835072e-02,\n",
              "          4.57740869e-01,  8.18653310e-01],\n",
              "        [-1.77971807e-01, -4.36508979e-01, -5.59173067e-03,\n",
              "         -2.66053529e-02, -4.83893304e-01, -1.51587657e-01,\n",
              "          3.96494753e-01, -4.37100617e-01],\n",
              "        [-1.34061051e-01, -2.35670257e-01,  4.74101070e-01,\n",
              "          2.42663725e-01,  7.82180145e-01, -9.23837956e-01,\n",
              "         -4.67488235e-01,  5.34157183e-01]]),\n",
              " array([[-7.76886110e-02,  5.32047929e-01, -3.39692854e-01,\n",
              "          3.32407445e-01, -2.21600408e-01, -4.89954944e-01,\n",
              "          3.57834658e-01, -3.25064162e-01,  1.92223444e-02,\n",
              "         -7.74321329e-01, -6.71492116e-01, -3.63611233e-02,\n",
              "         -2.83779907e-01,  3.06151025e-02, -7.69629218e-05,\n",
              "         -1.00148395e-01, -7.41207885e-01, -1.70064280e-01],\n",
              "        [ 2.30535253e-02, -4.11228142e-01,  3.14908228e-01,\n",
              "          4.02624154e-01,  8.11096982e-01,  1.54426998e-01,\n",
              "         -3.04952749e-01, -9.56658102e-04,  1.04185524e-01,\n",
              "         -2.18815125e-01, -5.80451501e-01,  1.83924424e-01,\n",
              "         -2.56571384e-01, -6.60563674e-02, -5.71468309e-01,\n",
              "         -2.52919906e-02,  1.56547942e-01, -8.80257136e-02],\n",
              "        [-1.60383281e-01,  4.47262557e-02, -3.19011721e-01,\n",
              "          2.33328226e-01, -3.49286607e-01,  1.10730621e-02,\n",
              "          1.20011046e-01,  2.79006082e-01, -8.45884009e-02,\n",
              "          3.72935472e-01,  3.53668285e-02, -2.93122801e-01,\n",
              "          6.13330707e-02,  2.04037244e-01,  4.23617178e-01,\n",
              "          3.32935391e-01, -1.00238100e-01,  4.34690689e-01],\n",
              "        [ 1.40661439e-01, -3.52368334e-01, -1.37239752e-01,\n",
              "         -3.02228226e-01, -4.13183933e-01,  2.22780001e-01,\n",
              "         -3.87794141e-01,  4.73786121e-01, -1.29956406e-01,\n",
              "          2.99961280e-02, -3.45245873e-01,  2.35562489e-01,\n",
              "          1.56783692e-01, -4.92861831e-02, -2.69336195e-01,\n",
              "         -3.35338741e-01, -7.88138334e-02, -2.27545661e-01],\n",
              "        [-8.96034275e-01, -3.89038734e-01, -4.14397411e-01,\n",
              "          3.70183357e-01, -4.11045474e-01, -1.68836936e-01,\n",
              "         -9.22839949e-02, -7.22919369e-01, -8.46534160e-02,\n",
              "          5.60121555e-01,  4.44714937e-01, -1.07157070e-02,\n",
              "         -2.66176596e-01,  7.70307386e-01, -1.81587090e-02,\n",
              "          1.80265516e-01,  4.15271456e-01,  4.40306484e-01],\n",
              "        [ 3.03487598e-01, -3.20955078e-01,  3.64095345e-01,\n",
              "         -9.85679539e-02,  6.03031308e-01, -3.85609074e-02,\n",
              "          2.67961016e-01, -4.22878663e-01,  1.33864858e-01,\n",
              "         -3.11996632e-01,  4.41213353e-01, -1.42307197e-01,\n",
              "         -4.88138577e-01, -3.61739204e-01, -2.47569942e-01,\n",
              "          4.44468370e-01,  4.32877630e-01, -2.68256511e-02],\n",
              "        [-1.60660987e-01,  1.33562873e-01,  4.96627988e-01,\n",
              "         -4.55586528e-01,  2.36468072e-01,  5.23152705e-01,\n",
              "          6.59479557e-01,  1.95125980e-01,  1.49637599e-01,\n",
              "         -2.51356847e-01,  1.18524449e-01, -2.47407607e-01,\n",
              "         -4.76735380e-02, -2.39449295e-01,  2.73308382e-01,\n",
              "         -7.61117479e-02,  2.22874547e-01, -6.22222065e-01],\n",
              "        [ 1.55377005e-01,  1.74624611e-01,  4.55579669e-01,\n",
              "         -9.44495167e-02,  4.28255974e-02, -2.28091099e-03,\n",
              "         -1.50749843e-01,  6.70613840e-03, -1.41122178e-01,\n",
              "          3.31385078e-01,  1.35762658e-01,  4.25851852e-01,\n",
              "         -1.71115354e-01, -1.50632686e-01, -2.19724197e-01,\n",
              "         -3.50558251e-01,  2.55839222e-01, -2.02563330e-01]]),\n",
              " array([[-0.20354656, -0.65961283, -0.49608254,  0.01233922,  0.07357017,\n",
              "         -0.35471133,  0.01427907,  0.61322504],\n",
              "        [ 0.77267158, -0.52035251, -0.15484426, -0.67316176,  0.08335507,\n",
              "         -0.46162584, -0.41051596, -1.21109555],\n",
              "        [ 0.01628526,  0.31229086,  0.5920918 ,  0.07632225, -0.15266135,\n",
              "         -0.06890667, -0.49360859, -0.10274484],\n",
              "        [-0.02559383, -0.48857189, -0.23652315, -0.26703962, -0.27856613,\n",
              "         -0.09315207, -0.03998305,  0.33717003],\n",
              "        [-0.0462948 ,  0.63003411, -0.28053672, -0.8065336 , -0.40763756,\n",
              "          0.31899291,  0.1946479 , -0.29951934],\n",
              "        [ 0.4723849 , -0.62687496, -0.12895715,  0.5624888 ,  0.52367284,\n",
              "         -0.19819692,  0.08045857, -0.3147543 ],\n",
              "        [-0.60775381,  0.25509832, -0.10120552, -0.44767744,  0.38645952,\n",
              "         -0.70596887, -0.28728176,  1.02354373],\n",
              "        [ 0.08504462, -0.29003019, -0.43985948,  0.39355433, -1.18038827,\n",
              "         -0.21746168, -0.38215147, -0.33687871]]),\n",
              " array([[-0.22338792, -0.37836628,  0.01120245,  0.27730703,  1.19569423,\n",
              "          0.05080931, -1.11020588,  0.24735278],\n",
              "        [ 0.3420383 , -0.02559827,  0.29372728,  0.1986027 , -0.47284213,\n",
              "         -0.57243088, -0.28595648, -0.09866487],\n",
              "        [-0.8984649 ,  0.16088917, -0.026472  ,  0.05249111, -0.30168268,\n",
              "         -0.33701192,  0.44455469, -0.01871456],\n",
              "        [ 0.22137544, -0.78107067, -0.64936027,  0.44169703,  0.20107093,\n",
              "         -0.47954189, -0.56034198,  0.71208675],\n",
              "        [-0.35660312,  0.29019496, -0.18749255,  0.78731776, -0.58764236,\n",
              "         -0.45874558,  0.00169692,  0.08637016],\n",
              "        [-0.54233398,  0.10568803, -0.50138129, -0.37728241, -0.42755134,\n",
              "          1.03972649,  0.46257865,  0.67685531],\n",
              "        [-0.05577737, -0.22580362,  0.24453916, -0.11928892, -0.13667792,\n",
              "          0.55828474,  0.14341451, -0.24039176]]),\n",
              " array([[ 0.38785626,  0.09402715, -0.45045558,  0.23531788,  0.66451559,\n",
              "          0.31171748, -0.31078789],\n",
              "        [ 0.69138411, -0.20500761,  0.73741831,  0.60244072,  0.01134291,\n",
              "          0.1875744 , -0.78872593],\n",
              "        [-0.16179889, -0.62441746, -0.83388731, -0.12332143,  1.29286221,\n",
              "          0.2601403 ,  0.04210668],\n",
              "        [ 0.14219363, -0.21774857,  0.19499714, -0.33454369,  0.04077161,\n",
              "          0.14124901, -0.07391854],\n",
              "        [-0.00328819, -0.24063155, -0.38054911, -0.2291964 ,  0.26370024,\n",
              "         -0.14165078,  0.58564646],\n",
              "        [ 0.56419654, -0.06794403, -0.07708298,  0.69965655, -0.1649809 ,\n",
              "          0.08189873, -0.42691684],\n",
              "        [-0.61523717, -0.77087866, -0.62110324,  0.3386805 , -0.29676318,\n",
              "         -0.15587407,  1.1055039 ],\n",
              "        [-0.69416464, -0.04473667,  0.32271157,  0.44626883, -0.33569045,\n",
              "          0.03025153, -0.50659808],\n",
              "        [ 0.01839337,  0.20958119,  1.12151093,  0.63010831, -0.89752446,\n",
              "          0.04621678,  0.61354931],\n",
              "        [ 0.32260564, -0.36588129, -0.99291023,  0.65764316,  0.4124606 ,\n",
              "          0.05140984, -0.78012172]]),\n",
              " array([-0.36081727,  0.16661096,  0.02301404,  0.27141158,  0.23277485,\n",
              "        -0.25966214, -0.32253974, -1.43865946,  0.34625862,  1.15096193])]"
            ]
          },
          "metadata": {
            "tags": []
          },
          "execution_count": 44
        }
      ]
    },
    {
      "cell_type": "code",
      "metadata": {
        "id": "f9bHrk67Szko",
        "colab_type": "code",
        "colab": {}
      },
      "source": [
        "obj.trainAndTest()"
      ],
      "execution_count": null,
      "outputs": []
    },
    {
      "cell_type": "code",
      "metadata": {
        "id": "tVTSa39-S2J1",
        "colab_type": "code",
        "colab": {
          "base_uri": "https://localhost:8080/",
          "height": 419
        },
        "outputId": "9d416f30-f5b6-4cb9-df73-107c65b8e298"
      },
      "source": [
        "obj.train\n"
      ],
      "execution_count": null,
      "outputs": [
        {
          "output_type": "execute_result",
          "data": {
            "text/html": [
              "<div>\n",
              "<style scoped>\n",
              "    .dataframe tbody tr th:only-of-type {\n",
              "        vertical-align: middle;\n",
              "    }\n",
              "\n",
              "    .dataframe tbody tr th {\n",
              "        vertical-align: top;\n",
              "    }\n",
              "\n",
              "    .dataframe thead th {\n",
              "        text-align: right;\n",
              "    }\n",
              "</style>\n",
              "<table border=\"1\" class=\"dataframe\">\n",
              "  <thead>\n",
              "    <tr style=\"text-align: right;\">\n",
              "      <th></th>\n",
              "      <th>0</th>\n",
              "      <th>1</th>\n",
              "      <th>2</th>\n",
              "    </tr>\n",
              "  </thead>\n",
              "  <tbody>\n",
              "    <tr>\n",
              "      <th>167</th>\n",
              "      <td>-9.333333</td>\n",
              "      <td>9.818182</td>\n",
              "      <td>1</td>\n",
              "    </tr>\n",
              "    <tr>\n",
              "      <th>168</th>\n",
              "      <td>7.393939</td>\n",
              "      <td>6.666667</td>\n",
              "      <td>0</td>\n",
              "    </tr>\n",
              "    <tr>\n",
              "      <th>169</th>\n",
              "      <td>7.151515</td>\n",
              "      <td>7.636364</td>\n",
              "      <td>0</td>\n",
              "    </tr>\n",
              "    <tr>\n",
              "      <th>170</th>\n",
              "      <td>-8.848485</td>\n",
              "      <td>2.060606</td>\n",
              "      <td>1</td>\n",
              "    </tr>\n",
              "    <tr>\n",
              "      <th>171</th>\n",
              "      <td>-10.303030</td>\n",
              "      <td>5.212121</td>\n",
              "      <td>1</td>\n",
              "    </tr>\n",
              "    <tr>\n",
              "      <th>...</th>\n",
              "      <td>...</td>\n",
              "      <td>...</td>\n",
              "      <td>...</td>\n",
              "    </tr>\n",
              "    <tr>\n",
              "      <th>329</th>\n",
              "      <td>9.818182</td>\n",
              "      <td>-2.787879</td>\n",
              "      <td>1</td>\n",
              "    </tr>\n",
              "    <tr>\n",
              "      <th>330</th>\n",
              "      <td>3.272727</td>\n",
              "      <td>-1.818182</td>\n",
              "      <td>1</td>\n",
              "    </tr>\n",
              "    <tr>\n",
              "      <th>331</th>\n",
              "      <td>4.969697</td>\n",
              "      <td>-6.424242</td>\n",
              "      <td>1</td>\n",
              "    </tr>\n",
              "    <tr>\n",
              "      <th>332</th>\n",
              "      <td>-1.575758</td>\n",
              "      <td>-8.606061</td>\n",
              "      <td>0</td>\n",
              "    </tr>\n",
              "    <tr>\n",
              "      <th>333</th>\n",
              "      <td>-2.060606</td>\n",
              "      <td>2.787879</td>\n",
              "      <td>1</td>\n",
              "    </tr>\n",
              "  </tbody>\n",
              "</table>\n",
              "<p>167 rows × 3 columns</p>\n",
              "</div>"
            ],
            "text/plain": [
              "             0         1  2\n",
              "167  -9.333333  9.818182  1\n",
              "168   7.393939  6.666667  0\n",
              "169   7.151515  7.636364  0\n",
              "170  -8.848485  2.060606  1\n",
              "171 -10.303030  5.212121  1\n",
              "..         ...       ... ..\n",
              "329   9.818182 -2.787879  1\n",
              "330   3.272727 -1.818182  1\n",
              "331   4.969697 -6.424242  1\n",
              "332  -1.575758 -8.606061  0\n",
              "333  -2.060606  2.787879  1\n",
              "\n",
              "[167 rows x 3 columns]"
            ]
          },
          "metadata": {
            "tags": []
          },
          "execution_count": 141
        }
      ]
    },
    {
      "cell_type": "code",
      "metadata": {
        "id": "hKI0aCTlQF9Z",
        "colab_type": "code",
        "colab": {}
      },
      "source": [
        "W,B=obj.generateWandB()"
      ],
      "execution_count": null,
      "outputs": []
    },
    {
      "cell_type": "code",
      "metadata": {
        "id": "A-cyVO_7T0BP",
        "colab_type": "code",
        "colab": {}
      },
      "source": [
        "obj2=PropagateEpoch(obj.train, obj.test, obj.W,obj.B,'sigmoid',N, BATCH=10)"
      ],
      "execution_count": null,
      "outputs": []
    },
    {
      "cell_type": "code",
      "metadata": {
        "id": "V_jIHvoIO2cr",
        "colab_type": "code",
        "colab": {
          "base_uri": "https://localhost:8080/",
          "height": 34
        },
        "outputId": "79079536-1d18-4b62-f8e6-da57ce2cca35"
      },
      "source": [
        "\n",
        "obj2.forward([[0,0]])[0][-1]\n",
        "#sigmoid(I[0])"
      ],
      "execution_count": null,
      "outputs": [
        {
          "output_type": "execute_result",
          "data": {
            "text/plain": [
              "0.506493611518958"
            ]
          },
          "metadata": {
            "tags": []
          },
          "execution_count": 50
        }
      ]
    },
    {
      "cell_type": "code",
      "metadata": {
        "id": "gUbKwUMALwJp",
        "colab_type": "code",
        "colab": {}
      },
      "source": [
        "N=[2,8,8,18,8,8,7,10]\n",
        "obj=Initialize(\"square\",N,0.5)\n",
        "obj.generateData(False)\n",
        "obj.generateWandB()\n",
        "obj.trainAndTest()\n",
        "test=obj.test\n",
        "\n",
        "\n",
        "test0=test.iloc[np.where(obj.test[2]==0)]\n",
        "test1=test.iloc[np.where(obj.test[2]==1)]\n",
        "\n",
        "\n",
        "obj2=PropagateEpoch(obj.train, obj.test, obj.W,obj.B,'relu',N, BATCH=10)\n",
        "\n",
        "\n",
        "#pred0=[forward2(W, B, [[row[1][0],row[1][1]]])[0][-1] for row in test0.iterrows()]\n",
        "#pred1=[forward2(W, B, [[row[1][0],row[1][1]]])[0][-1] for row in test1.iterrows()]\n",
        "pred0=[obj2.forward([[row[1][0],row[1][1]]])[0][-1] for row in test0.iterrows()]\n",
        "pred1=[obj2.forward([[row[1][0],row[1][1]]])[0][-1] for row in test1.iterrows()]\n",
        "\n",
        "mp0=np.mean(pred0)+2.5*np.std(pred0)\n",
        "\n",
        "mp1=np.mean(pred1)#-1.5*np.std(pred1)\n",
        "\n",
        "#mp0=np.array(.85)\n",
        "#acc=((sum(pred0<=mp0)/len(pred0))+(sum(pred1>=mp1)/len(pred1)))/2\n",
        "acc=((sum(pred0<=mp0)/len(pred0))+(sum(pred1>=mp0)/len(pred1)))/2\n",
        "plt.hist(([pred0,pred1])"
      ],
      "execution_count": null,
      "outputs": []
    },
    {
      "cell_type": "code",
      "metadata": {
        "id": "rtuSGuFIupQj",
        "colab_type": "code",
        "colab": {
          "base_uri": "https://localhost:8080/",
          "height": 262
        },
        "outputId": "fdfc8dc0-dad7-4733-99cd-cc74b30c795e"
      },
      "source": [
        "import numpy as np\n",
        "import pandas as pd\n",
        "N=[2,8,8,18,8,8,7,10]\n",
        "obj=Initialize(\"square\",N,0.5)\n",
        "obj.generateData(False)\n",
        "obj.generateWandB()\n",
        "obj.trainAndTest()\n",
        "test=obj.test\n",
        "\n",
        "\n",
        "test0=test.iloc[np.where(obj.test[2]==0)]\n",
        "test1=test.iloc[np.where(obj.test[2]==1)]\n",
        "\n",
        "\n",
        "obj2=PropagateEpoch(obj.train, obj.test, obj.W,obj.B,'relu',N, BATCH=10)\n",
        "\n",
        "\n",
        "#pred0=[forward2(W, B, [[row[1][0],row[1][1]]])[0][-1] for row in test0.iterrows()]\n",
        "#pred1=[forward2(W, B, [[row[1][0],row[1][1]]])[0][-1] for row in test1.iterrows()]\n",
        "pred0=[obj2.forward([[row[1][0],row[1][1]]])[0][-1] for row in test0.iterrows()]-np.array([0.25])\n",
        "pred1=[obj2.forward([[row[1][0],row[1][1]]])[0][-1] for row in test1.iterrows()]+np.array([.25])\n",
        "\n",
        "\n",
        "mp0=np.mean(pred0)+2.5*np.std(pred0)\n",
        "\n",
        "mp1=np.mean(pred1)#-1.5*np.std(pred1)\n",
        "\n",
        "#mp0=np.array(.85)\n",
        "#acc=((sum(pred0<=mp0)/len(pred0))+(sum(pred1>=mp1)/len(pred1)))/2\n",
        "acc=((sum(pred0<=mp0)/len(pred0))+(sum(pred1>=mp0)/len(pred1)))/2\n",
        "#acc\n",
        "#testAcuracy(test)\n",
        "# sum(pred0<=mp0)/len(pred0)\n",
        "# sum(pred1>=mp0)/len(pred1)\n",
        "a=plt.hist([pred0,pred1])\n",
        "# plt.axvline(mp0, 0, 1, label='pyplot vertical line',color='b')\n",
        "# plt.axvline(mp1, 0, 1, label='pyplot vertical line',color='r')\n",
        "#np.mean(pred0)"
      ],
      "execution_count": 4,
      "outputs": [
        {
          "output_type": "display_data",
          "data": {
            "image/png": "[encoded data removed]",
            "text/plain": [
              "<Figure size 432x288 with 1 Axes>"
            ]
          },
          "metadata": {
            "tags": [],
            "needs_background": "light"
          }
        }
      ]
    },
    {
      "cell_type": "code",
      "metadata": {
        "id": "AmJzJ2ge_6cC",
        "colab_type": "code",
        "colab": {
          "base_uri": "https://localhost:8080/",
          "height": 306
        },
        "outputId": "ec97f208-fae2-4a33-8d5f-3608784924ea"
      },
      "source": [
        "pred0+np.array([5])"
      ],
      "execution_count": null,
      "outputs": [
        {
          "output_type": "execute_result",
          "data": {
            "text/plain": [
              "array([5.46112023, 5.50030485, 5.49706189, 5.28619583, 5.46736435,\n",
              "       5.37019507, 5.51283264, 5.41274738, 5.49816472, 5.51174775,\n",
              "       5.42212526, 5.472282  , 5.49350641, 5.52014598, 5.33689387,\n",
              "       5.34506573, 5.49639135, 5.24369874, 5.35421976, 5.51813979,\n",
              "       5.37207563, 5.4834022 , 5.48933697, 5.36028068, 5.46245598,\n",
              "       5.47792308, 5.34456061, 5.49649786, 5.28640499, 5.37812348,\n",
              "       5.49902062, 5.43514545, 5.49203745, 5.50008771, 5.49353858,\n",
              "       5.48375501, 5.49449031, 5.40828199, 5.50810893, 5.4902174 ,\n",
              "       5.45937301, 5.45792468, 5.47677128, 5.3935444 , 5.49215171,\n",
              "       5.4171727 , 5.27428263, 5.49760099, 5.50079432, 5.45714354,\n",
              "       5.4922295 , 5.47470501, 5.50968029, 5.50521101, 5.4848641 ,\n",
              "       5.32242651, 5.42238903, 5.32876206, 5.49348391, 5.34577475,\n",
              "       5.45995055, 5.37721284, 5.27456437, 5.50045229, 5.25463522,\n",
              "       5.47373845, 5.29103432, 5.38967938, 5.46133229, 5.49116723,\n",
              "       5.36387122, 5.36308166, 5.50016102, 5.47539646, 5.41238955,\n",
              "       5.46738287, 5.30644035, 5.46858082, 5.48927898, 5.44633308,\n",
              "       5.51708144, 5.37386568, 5.36696344, 5.49603727])"
            ]
          },
          "metadata": {
            "tags": []
          },
          "execution_count": 13
        }
      ]
    }
  ]
}